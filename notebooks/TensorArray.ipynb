{
 "cells": [
  {
   "cell_type": "code",
   "execution_count": 81,
   "metadata": {},
   "outputs": [
    {
     "name": "stdout",
     "output_type": "stream",
     "text": [
      "[array([ 4.], dtype=float32), array([ 5.], dtype=float32), array([ 6.], dtype=float32)]\n",
      "[array([[ 4.],\n",
      "       [ 5.],\n",
      "       [ 6.]], dtype=float32)]\n"
     ]
    }
   ],
   "source": [
    "import tensorflow as tf\n",
    "\n",
    "with tf.Session() as sess:\n",
    "    arr = tf.TensorArray(size=4, dtype=tf.float32)\n",
    "    arr = arr.write(0, [4.0])\n",
    "    arr = arr.write(1, [5.0])\n",
    "    arr = arr.write(2, [6.0])\n",
    "\n",
    "    r1 = arr.read(0)\n",
    "    r2 = arr.read(1)\n",
    "    r3 = arr.read(2)\n",
    "\n",
    "    d1, d2, d3 = sess.run([r1, r2, r3])\n",
    "        \n",
    "    x = sess.run([w3.gather([0, 1, 2])])\n",
    "    \n",
    "print([d1, d2, d3])\n",
    "print(x)"
   ]
  }
 ],
 "metadata": {
  "kernelspec": {
   "display_name": "Python [default]",
   "language": "python",
   "name": "python3"
  },
  "language_info": {
   "codemirror_mode": {
    "name": "ipython",
    "version": 3
   },
   "file_extension": ".py",
   "mimetype": "text/x-python",
   "name": "python",
   "nbconvert_exporter": "python",
   "pygments_lexer": "ipython3",
   "version": "3.6.2"
  }
 },
 "nbformat": 4,
 "nbformat_minor": 2
}
