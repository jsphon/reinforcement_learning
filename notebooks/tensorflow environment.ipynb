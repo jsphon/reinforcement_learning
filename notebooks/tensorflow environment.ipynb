{
 "cells": [
  {
   "cell_type": "markdown",
   "metadata": {},
   "source": [
    "Example environment for reinforcement learning"
   ]
  },
  {
   "cell_type": "code",
   "execution_count": 1,
   "metadata": {
    "collapsed": true
   },
   "outputs": [],
   "source": [
    "from rl.lib.timer import Timer\n",
    "\n",
    "import numpy as np\n",
    "import tensorflow as tf\n",
    "sess = tf.InteractiveSession()\n",
    "sess.run(tf.global_variables_initializer())"
   ]
  },
  {
   "cell_type": "code",
   "execution_count": 2,
   "metadata": {
    "collapsed": true
   },
   "outputs": [],
   "source": [
    "EPSILON = 0.1\n",
    "NUM_POSITIONS = 10\n",
    "TARGET_POSITION = 5\n",
    "MOVE_LEFT = 0\n",
    "MOVE_RIGHT = 1\n",
    "NUM_ACTIONS = 2"
   ]
  },
  {
   "cell_type": "markdown",
   "metadata": {},
   "source": [
    "Demonstrate\n",
    "\n",
    "- Creating a vector of zeros\n",
    "- Updating one of those zeros to one.\n",
    "\n",
    "This is useful for creating one-hot vector representations."
   ]
  },
  {
   "cell_type": "code",
   "execution_count": 3,
   "metadata": {
    "scrolled": false
   },
   "outputs": [
    {
     "name": "stdout",
     "output_type": "stream",
     "text": [
      "[0, array([ 1.,  0.,  0.,  0.,  0.,  0.,  0.,  0.,  0.,  0.], dtype=float32)]\n",
      "[1, array([ 0.,  1.,  0.,  0.,  0.,  0.,  0.,  0.,  0.,  0.], dtype=float32)]\n",
      "[2, array([ 0.,  0.,  1.,  0.,  0.,  0.,  0.,  0.,  0.,  0.], dtype=float32)]\n",
      "[3, array([ 0.,  0.,  0.,  1.,  0.,  0.,  0.,  0.,  0.,  0.], dtype=float32)]\n",
      "[4, array([ 0.,  0.,  0.,  0.,  1.,  0.,  0.,  0.,  0.,  0.], dtype=float32)]\n",
      "[5, array([ 0.,  0.,  0.,  0.,  0.,  1.,  0.,  0.,  0.,  0.], dtype=float32)]\n",
      "[6, array([ 0.,  0.,  0.,  0.,  0.,  0.,  1.,  0.,  0.,  0.], dtype=float32)]\n",
      "[7, array([ 0.,  0.,  0.,  0.,  0.,  0.,  0.,  1.,  0.,  0.], dtype=float32)]\n",
      "[8, array([ 0.,  0.,  0.,  0.,  0.,  0.,  0.,  0.,  1.,  0.], dtype=float32)]\n",
      "[9, array([ 0.,  0.,  0.,  0.,  0.,  0.,  0.,  0.,  0.,  1.], dtype=float32)]\n"
     ]
    }
   ],
   "source": [
    "def get_position_vector(position):\n",
    "    x = tf.Variable([0.] * NUM_POSITIONS, dtype=tf.float32)\n",
    "    b = tf.scatter_update(x, [position], [1])\n",
    "    return b\n",
    "\n",
    "\n",
    "for p in range(NUM_POSITIONS):\n",
    "    position = tf.Variable(p, dtype=tf.int32)\n",
    "    position_vector = get_position_vector(position)\n",
    "\n",
    "    sess.run(tf.global_variables_initializer())      \n",
    "    print(sess.run([position, position_vector]))\n"
   ]
  },
  {
   "cell_type": "markdown",
   "metadata": {},
   "source": [
    "Moving the position left or right, and converting to one-hot representation."
   ]
  },
  {
   "cell_type": "code",
   "execution_count": 4,
   "metadata": {},
   "outputs": [
    {
     "data": {
      "text/plain": [
       "[4, 5, 6]"
      ]
     },
     "execution_count": 4,
     "metadata": {},
     "output_type": "execute_result"
    }
   ],
   "source": [
    "def move_left(position):\n",
    "    return tf.maximum(position-1, tf.Variable(0, dtype=tf.int32))\n",
    "\n",
    "def move_right(position):\n",
    "    return tf.minimum(position+1, tf.Variable(NUM_POSITIONS-1, dtype=tf.int32))\n",
    "\n",
    "position = tf.Variable(5)\n",
    "left_position = move_left(position)\n",
    "right_position = move_right(position)\n",
    "\n",
    "sess.run(tf.global_variables_initializer())  \n",
    "sess.run([left_position, position, right_position ])"
   ]
  },
  {
   "cell_type": "markdown",
   "metadata": {},
   "source": [
    "The apply_action can move the position left or right, depending on what action it is given."
   ]
  },
  {
   "cell_type": "code",
   "execution_count": 5,
   "metadata": {},
   "outputs": [
    {
     "data": {
      "text/plain": [
       "[4, 5, 6]"
      ]
     },
     "execution_count": 5,
     "metadata": {},
     "output_type": "execute_result"
    }
   ],
   "source": [
    "def apply_action(position, action):\n",
    "    cond = tf.equal(action, MOVE_LEFT)\n",
    "    return tf.cond(cond, lambda: move_left(position), lambda: move_right(position))\n",
    "\n",
    "position = tf.Variable(5)\n",
    "left_position = apply_action(position, MOVE_LEFT)\n",
    "right_position = apply_action(position, MOVE_RIGHT)\n",
    "\n",
    "sess.run(tf.global_variables_initializer())\n",
    "sess.run([left_position, position, right_position ])"
   ]
  },
  {
   "cell_type": "markdown",
   "metadata": {},
   "source": [
    "We don't have anything to intelligently move the agent yet. So let's just create a function to move it randomly."
   ]
  },
  {
   "cell_type": "code",
   "execution_count": 6,
   "metadata": {},
   "outputs": [
    {
     "name": "stdout",
     "output_type": "stream",
     "text": [
      "1\n",
      "1\n",
      "1\n",
      "1\n",
      "1\n",
      "0\n",
      "1\n",
      "1\n",
      "1\n",
      "0\n",
      "0.958\n"
     ]
    }
   ],
   "source": [
    "def choose_action(action_values):\n",
    "    cond = tf.less(EPSILON, tf.random_uniform([1]))\n",
    "    \n",
    "    action_if_false = tf.random_uniform([1], maxval=2, dtype=tf.int32)[0]\n",
    "    action_if_true = tf.argmax(action_values, output_type=tf.int32)\n",
    "    return tf.cond(cond[0], lambda: action_if_true, lambda: action_if_false)\n",
    "\n",
    "action_values = tf.constant([1, 2], dtype=tf.int32)\n",
    "action = choose_action(action_values)\n",
    "\n",
    "sess.run(tf.global_variables_initializer())\n",
    "\n",
    "for _ in range(10):\n",
    "    print(sess.run(action))\n",
    "    \n",
    "actions = [sess.run(action) for _ in range(1000)]\n",
    "# Expect 95% of trues\n",
    "print(np.mean(actions))"
   ]
  },
  {
   "cell_type": "markdown",
   "metadata": {},
   "source": [
    "Use tf.while_loop to move the agent at random, until it's position reaches TARGET_POSITION"
   ]
  },
  {
   "cell_type": "code",
   "execution_count": 7,
   "metadata": {
    "scrolled": false
   },
   "outputs": [
    {
     "name": "stdout",
     "output_type": "stream",
     "text": [
      "5\n"
     ]
    }
   ],
   "source": [
    "action_values = tf.constant([1, 2], dtype=tf.int32)\n",
    "action = choose_action(action_values)\n",
    "position = tf.Variable(0, tf.int32)\n",
    "\n",
    "cond = lambda position: tf.not_equal(position, TARGET_POSITION)\n",
    "op = lambda position: apply_action(position, choose_action(action_values))\n",
    "\n",
    "r=tf.while_loop(cond, op, [position])\n",
    "\n",
    "sess.run(tf.global_variables_initializer())\n",
    "print(r.eval())"
   ]
  },
  {
   "cell_type": "markdown",
   "metadata": {},
   "source": [
    "Expand the prior example so that:\n",
    "\n",
    " - We record all positions inside a TensorArray.\n",
    " - We return the position using TensorArray.gather."
   ]
  },
  {
   "cell_type": "code",
   "execution_count": 20,
   "metadata": {
    "scrolled": false
   },
   "outputs": [
    {
     "name": "stdout",
     "output_type": "stream",
     "text": [
      "[2 1 0 0 1 0 1 2]\n",
      "[2 3 2 3 2 3]\n",
      "[2 3 2 3 4 3 2 1]\n",
      "[2 1 2 1 0 1 0 1]\n",
      "[2 1 0 1 2 3 4 3]\n",
      "[2 3 2 3 4 3 4 3]\n",
      "[2 3]\n",
      "[2 1 2 3 2 3]\n",
      "[2 1 0 0 0 0 1 0]\n",
      "[2 1 0 1 0 0 0 1]\n"
     ]
    }
   ],
   "source": [
    "MAX_EPISODE_LENGTH = 10\n",
    "\n",
    "def get_walk():\n",
    "    ''' Generate positions '''\n",
    "    position = tf.Variable(2, tf.int32)\n",
    "    count = tf.Variable(0, tf.int32)\n",
    "    positions = tf.TensorArray(tf.int32, size=MAX_EPISODE_LENGTH)\n",
    "    positions = positions.write(count, position)\n",
    "\n",
    "    cond_not_terminal = lambda c, p, ps: tf.not_equal(p, TARGET_POSITION)\n",
    "    cond_not_max_length = lambda c, p, ps: tf.less(c, MAX_EPISODE_LENGTH-1)\n",
    "    cond = lambda c, p, ps: cond_not_terminal(c, p, ps) & cond_not_max_length(c, p, ps)\n",
    "\n",
    "    def body(c, p, positions):\n",
    "        next_c = c+1\n",
    "        action_values = tf.random_uniform([2], )\n",
    "        next_p = apply_action(p, choose_action(action_values))\n",
    "        positions = positions.write(next_c, next_p)\n",
    "        return next_c, next_p, positions\n",
    "\n",
    "    count, position, positions = tf.while_loop(cond, body, (count, position, positions))\n",
    "    rng = tf.range(count-1)\n",
    "    gathered_positions = positions.gather(rng)\n",
    "    return gathered_positions\n",
    "\n",
    "for _ in range(10):\n",
    "    positions = get_walk()\n",
    "    sess.run(tf.global_variables_initializer())\n",
    "    ps = sess.run(positions)\n",
    "    print(ps)"
   ]
  },
  {
   "cell_type": "code",
   "execution_count": 22,
   "metadata": {},
   "outputs": [
    {
     "name": "stdout",
     "output_type": "stream",
     "text": [
      "Making walks Took 0.71s seconds\n",
      "Initialising global variables Took 0.27s seconds\n",
      "Generating walks Took 0.17s seconds\n",
      "[array([2, 3, 4, 3, 4, 3, 2, 3], dtype=int32), array([2, 1, 2, 1, 0, 0, 1, 2], dtype=int32), array([2, 1, 2, 3, 2, 3], dtype=int32), array([2, 3, 2, 1, 0, 1, 0, 0], dtype=int32), array([2, 1, 0, 0, 1, 2, 1, 0], dtype=int32), array([2, 3], dtype=int32), array([2, 3, 2, 1, 2, 3, 4, 3], dtype=int32), array([2, 3], dtype=int32), array([2, 1, 0, 0, 1, 0, 0, 0], dtype=int32), array([2, 3, 4, 3, 4, 3, 4, 3], dtype=int32)]\n"
     ]
    }
   ],
   "source": [
    "with Timer('Making walks'):\n",
    "    walks = [ get_walk() for _ in range(10)]\n",
    "\n",
    "with Timer('Initialising global variables'):\n",
    "    sess.run(tf.global_variables_initializer())\n",
    "    \n",
    "with Timer('Generating walks'):\n",
    "    ws = sess.run(walks)\n",
    "print(ws)"
   ]
  },
  {
   "cell_type": "code",
   "execution_count": 26,
   "metadata": {},
   "outputs": [
    {
     "name": "stdout",
     "output_type": "stream",
     "text": [
      "Making Walks Took 0.09s seconds\n",
      "Initialising global variables Took 0.62s seconds\n",
      "Concatenating Took 0.37s seconds\n",
      "[array([2, 1, 2, ..., 3, 2, 1], dtype=int32)]\n",
      "(6697,)\n",
      "Building List Took 0.97s seconds\n",
      "Evaluating List Took 0.60s seconds\n",
      "[array([2, 3, 2, 3, 2, 3, 2, 1], dtype=int32), array([2, 1, 2, 1, 2, 1, 2, 1], dtype=int32), array([2, 3, 2, 3, 2, 1, 2, 1], dtype=int32), array([2, 1, 0, 1, 2, 1, 0, 0], dtype=int32), array([2, 3, 2, 1, 0, 1, 2, 3], dtype=int32), array([2, 1, 2, 1, 0, 1, 2, 1], dtype=int32), array([2, 1, 2, 1, 2, 3], dtype=int32), array([2, 1, 0, 1, 0, 1, 0, 1], dtype=int32), array([2, 1, 0, 1, 2, 3, 2, 1], dtype=int32), array([2, 1, 2, 3], dtype=int32), array([2, 1, 0, 1, 2, 3], dtype=int32), array([2, 3], dtype=int32), array([2, 1, 0, 0, 1, 0, 1, 0], dtype=int32), array([2, 1, 2, 3, 2, 1, 0, 0], dtype=int32), array([2, 1, 0, 1, 2, 1, 0, 0], dtype=int32), array([2, 1, 2, 3], dtype=int32), array([2, 1, 2, 3], dtype=int32), array([2, 1, 0, 0, 0, 0, 1, 2], dtype=int32), array([2, 1, 2, 1, 2, 3, 4, 3], dtype=int32), array([2, 1, 2, 1, 2, 1, 0, 1], dtype=int32), array([2, 3], dtype=int32), array([2, 3, 4, 3, 4, 3], dtype=int32), array([2, 3, 2, 3], dtype=int32), array([2, 3, 2, 3, 4, 3, 2, 3], dtype=int32), array([2, 3], dtype=int32), array([2, 1, 2, 1, 2, 1, 2, 1], dtype=int32), array([2, 3, 2, 1, 2, 3, 2, 1], dtype=int32), array([2, 3, 2, 3, 2, 1, 0, 1], dtype=int32), array([2, 3, 2, 1, 2, 3], dtype=int32), array([2, 1, 2, 1, 2, 3, 2, 1], dtype=int32), array([2, 3, 2, 3, 2, 1, 2, 3], dtype=int32), array([2, 1, 0, 1, 2, 1, 2, 1], dtype=int32), array([2, 3, 2, 3, 4, 3, 4, 3], dtype=int32), array([2, 1, 2, 1, 0, 0, 0, 0], dtype=int32), array([2, 1, 0, 0, 1, 2, 3, 2], dtype=int32), array([2, 1, 0, 0, 1, 2, 3, 2], dtype=int32), array([2, 1, 0, 1, 2, 1, 0, 1], dtype=int32), array([2, 3, 2, 1, 0, 0, 1, 0], dtype=int32), array([2, 1, 2, 3, 2, 1, 2, 1], dtype=int32), array([2, 3, 4, 3, 2, 1, 2, 3], dtype=int32), array([2, 1, 0, 0, 0, 0, 0, 1], dtype=int32), array([2, 1, 2, 1, 2, 1, 2, 3], dtype=int32), array([2, 3, 2, 3, 2, 1, 0, 1], dtype=int32), array([2, 1, 0, 0, 1, 2, 3, 2], dtype=int32), array([2, 3, 2, 3, 2, 3, 2, 3], dtype=int32), array([2, 3, 4, 3, 2, 3, 2, 3], dtype=int32), array([2, 3, 2, 3, 4, 3, 2, 1], dtype=int32), array([2, 1, 0, 0, 0, 0, 1, 0], dtype=int32), array([2, 3, 2, 3, 2, 3, 2, 3], dtype=int32), array([2, 3, 2, 3, 4, 3], dtype=int32), array([2, 3], dtype=int32), array([2, 3, 2, 1, 2, 1, 0, 1], dtype=int32), array([2, 1, 0, 1, 2, 3, 2, 1], dtype=int32), array([2, 1, 2, 1, 0, 0, 0, 0], dtype=int32), array([2, 1, 2, 1, 0, 0, 0, 0], dtype=int32), array([2, 1, 0, 0, 0, 1, 2, 3], dtype=int32), array([2, 1, 2, 3], dtype=int32), array([2, 3], dtype=int32), array([2, 1, 0, 1, 0, 0, 0, 0], dtype=int32), array([2, 3], dtype=int32), array([2, 1, 2, 3, 4, 3, 4, 3], dtype=int32), array([2, 3], dtype=int32), array([2, 3], dtype=int32), array([2, 1, 2, 1, 0, 0, 1, 2], dtype=int32), array([2, 3], dtype=int32), array([2, 1, 0, 0, 1, 2, 1, 2], dtype=int32), array([2, 3], dtype=int32), array([2, 3, 4, 3, 4, 3, 4, 3], dtype=int32), array([2, 3, 4, 3, 4, 3, 2, 3], dtype=int32), array([2, 3, 2, 3], dtype=int32), array([2, 3, 2, 3], dtype=int32), array([2, 1, 0, 1, 0, 1, 0, 1], dtype=int32), array([2, 3], dtype=int32), array([2, 3, 4, 3], dtype=int32), array([2, 1, 2, 1, 2, 3, 2, 3], dtype=int32), array([2, 1, 0, 0, 0, 1, 2, 1], dtype=int32), array([2, 3, 2, 1, 0, 1, 0, 1], dtype=int32), array([2, 1, 0, 1, 0, 0, 0, 1], dtype=int32), array([2, 3, 2, 1, 0, 0, 1, 0], dtype=int32), array([2, 1, 0, 0, 0, 1, 2, 1], dtype=int32), array([2, 1, 2, 3, 2, 1, 0, 1], dtype=int32), array([2, 1, 2, 3, 4, 3, 4, 3], dtype=int32), array([2, 1, 0, 1, 2, 3, 2, 1], dtype=int32), array([2, 3, 2, 3], dtype=int32), array([2, 1, 0, 1, 2, 1, 2, 3], dtype=int32), array([2, 3, 2, 3, 2, 1, 0, 1], dtype=int32), array([2, 3, 2, 3, 2, 1, 2, 1], dtype=int32), array([2, 3], dtype=int32), array([2, 3, 2, 3, 4, 3, 4, 3], dtype=int32), array([2, 1, 2, 1, 2, 1, 0, 1], dtype=int32), array([2, 3, 2, 1, 2, 1, 0, 1], dtype=int32), array([2, 1, 0, 0, 0, 1, 2, 3], dtype=int32), array([2, 1, 0, 0, 0, 0, 0, 1], dtype=int32), array([2, 3], dtype=int32), array([2, 1, 2, 1, 2, 1, 2, 3], dtype=int32), array([2, 3, 4, 3, 4, 3, 2, 1], dtype=int32), array([2, 3, 4, 3], dtype=int32), array([2, 3, 4, 3, 4, 3, 4, 3], dtype=int32), array([2, 3, 2, 3, 4, 3, 2, 1], dtype=int32), array([2, 3, 4, 3], dtype=int32), array([2, 1, 2, 1, 2, 3], dtype=int32), array([2, 3, 2, 3, 2, 3, 2, 3], dtype=int32), array([2, 3, 4, 3], dtype=int32), array([2, 3, 2, 1, 0, 0, 1, 2], dtype=int32), array([2, 1, 2, 3, 4, 3, 2, 3], dtype=int32), array([2, 1, 2, 1, 2, 1, 0, 0], dtype=int32), array([2, 3, 2, 1, 2, 3, 2, 1], dtype=int32), array([2, 1, 0, 1, 2, 3, 4, 3], dtype=int32), array([2, 1, 2, 1, 0, 1, 2, 1], dtype=int32), array([2, 3, 2, 3, 2, 1, 0, 0], dtype=int32), array([2, 1, 2, 3, 2, 1, 2, 3], dtype=int32), array([2, 3], dtype=int32), array([2, 3], dtype=int32), array([2, 3, 2, 1, 2, 1, 2, 1], dtype=int32), array([2, 3, 2, 1, 0, 1, 2, 3], dtype=int32), array([2, 3, 2, 3, 2, 1, 0, 0], dtype=int32), array([2, 1, 0, 1, 2, 3, 4, 3], dtype=int32), array([2, 1, 0, 1, 2, 1, 0, 1], dtype=int32), array([2, 1, 0, 0, 0, 1, 2, 1], dtype=int32), array([2, 3, 2, 3, 2, 3, 2, 1], dtype=int32), array([2, 1, 0, 1, 2, 1, 0, 1], dtype=int32), array([2, 1, 0, 0, 1, 2, 3, 2], dtype=int32), array([2, 3, 2, 1, 2, 1, 0, 0], dtype=int32), array([2, 1, 2, 3, 2, 1, 0, 0], dtype=int32), array([2, 3, 2, 3, 2, 3], dtype=int32), array([2, 3, 2, 1, 2, 3, 2, 1], dtype=int32), array([2, 3], dtype=int32), array([2, 3, 4, 3, 4, 3, 4, 3], dtype=int32), array([2, 3, 4, 3, 2, 3, 4, 3], dtype=int32), array([2, 1, 0, 1, 2, 3, 2, 3], dtype=int32), array([2, 3], dtype=int32), array([2, 1, 0, 1, 0, 0, 1, 2], dtype=int32), array([2, 1, 2, 3, 2, 1, 0, 0], dtype=int32), array([2, 1, 0, 1, 0, 0, 0, 1], dtype=int32), array([2, 3, 4, 3, 2, 3, 4, 3], dtype=int32), array([2, 3, 2, 3, 4, 3, 4, 3], dtype=int32), array([2, 1, 0, 1, 2, 1, 2, 1], dtype=int32), array([2, 1, 2, 3, 4, 3, 4, 3], dtype=int32), array([2, 3], dtype=int32), array([2, 3, 2, 1, 2, 1, 0, 0], dtype=int32), array([2, 1, 0, 1, 0, 0, 0, 0], dtype=int32), array([2, 1, 2, 1, 0, 1, 2, 3], dtype=int32), array([2, 3], dtype=int32), array([2, 3, 4, 3, 2, 3, 2, 3], dtype=int32), array([2, 1, 0, 0, 1, 2, 1, 0], dtype=int32), array([2, 3, 2, 3, 2, 3, 2, 3], dtype=int32), array([2, 1, 0, 0, 0, 0, 1, 0], dtype=int32), array([2, 3, 2, 1, 2, 1, 2, 3], dtype=int32), array([2, 1, 0, 0, 1, 2, 1, 0], dtype=int32), array([2, 1, 0, 1, 2, 1, 2, 1], dtype=int32), array([2, 3, 4, 3], dtype=int32), array([2, 1, 0, 1, 0, 0, 1, 0], dtype=int32), array([2, 1, 0, 1, 0, 1, 2, 1], dtype=int32), array([2, 1, 0, 0, 1, 0, 0, 1], dtype=int32), array([2, 1, 2, 1, 2, 3, 4, 3], dtype=int32), array([2, 3], dtype=int32), array([2, 3, 2, 3, 2, 1, 2, 3], dtype=int32), array([2, 3], dtype=int32), array([2, 1, 2, 1, 0, 1, 2, 1], dtype=int32), array([2, 1, 2, 3, 2, 1, 0, 0], dtype=int32), array([2, 3, 2, 1, 0, 1, 2, 1], dtype=int32), array([2, 3, 2, 3, 4, 3, 4, 3], dtype=int32), array([2, 1, 2, 3, 2, 1, 0, 1], dtype=int32), array([2, 1, 0, 1, 2, 1, 2, 1], dtype=int32), array([2, 1, 0, 0, 0, 1, 2, 1], dtype=int32), array([2, 1, 0, 1, 0, 1, 2, 3], dtype=int32), array([2, 3], dtype=int32), array([2, 1, 2, 1, 2, 1, 0, 0], dtype=int32), array([2, 3, 2, 3, 4, 3, 2, 1], dtype=int32), array([2, 3, 4, 3, 2, 3], dtype=int32), array([2, 1, 2, 1, 0, 1, 0, 0], dtype=int32), array([2, 1, 2, 1, 0, 1, 2, 1], dtype=int32), array([2, 1, 2, 3, 2, 1, 0, 0], dtype=int32), array([2, 3, 4, 3, 4, 3, 4, 3], dtype=int32), array([2, 1, 0, 1, 2, 1, 0, 1], dtype=int32), array([2, 1, 2, 3], dtype=int32), array([2, 3, 4, 3], dtype=int32), array([2, 3], dtype=int32), array([2, 1, 0, 1, 0, 1, 2, 1], dtype=int32), array([2, 3], dtype=int32), array([2, 3], dtype=int32), array([2, 3, 2, 1, 0, 1, 0, 0], dtype=int32), array([2, 1, 0, 1, 2, 1, 0, 0], dtype=int32), array([2, 1, 2, 3, 2, 1, 2, 1], dtype=int32), array([2, 3, 4, 3, 2, 3, 2, 3], dtype=int32), array([2, 1, 0, 1, 2, 3, 2, 3], dtype=int32), array([2, 1, 2, 1, 2, 3, 4, 3], dtype=int32), array([2, 3, 2, 3, 2, 1, 2, 1], dtype=int32), array([2, 1, 2, 1, 0, 0, 1, 2], dtype=int32), array([2, 3, 4, 3, 2, 1, 0, 1], dtype=int32), array([2, 3, 2, 3, 2, 1, 0, 1], dtype=int32), array([2, 3, 2, 1, 2, 3], dtype=int32), array([2, 3, 4, 3], dtype=int32), array([2, 3, 4, 3, 4, 3, 4, 3], dtype=int32), array([2, 3, 2, 3, 4, 3, 2, 3], dtype=int32), array([2, 1, 2, 1, 0, 0, 0, 1], dtype=int32), array([2, 1, 2, 3, 2, 1, 0, 0], dtype=int32), array([2, 1, 0, 1, 0, 1, 0, 1], dtype=int32), array([2, 3, 4, 3], dtype=int32), array([2, 3, 2, 1, 2, 1, 0, 0], dtype=int32), array([2, 3, 4, 3, 2, 1, 2, 1], dtype=int32), array([2, 3, 2, 3, 4, 3], dtype=int32), array([2, 3, 4, 3, 2, 3, 2, 1], dtype=int32), array([2, 1, 2, 3, 2, 1, 2, 3], dtype=int32), array([2, 3, 4, 3, 4, 3, 2, 1], dtype=int32), array([2, 3, 2, 1, 0, 0, 0, 0], dtype=int32), array([2, 3, 2, 3, 4, 3, 2, 1], dtype=int32), array([2, 3], dtype=int32), array([2, 3], dtype=int32), array([2, 3], dtype=int32), array([2, 1, 0, 1, 0, 1, 2, 1], dtype=int32), array([2, 3, 2, 3], dtype=int32), array([2, 1, 2, 3], dtype=int32), array([2, 3, 4, 3], dtype=int32), array([2, 3, 2, 1, 0, 0, 1, 2], dtype=int32), array([2, 1, 2, 3, 2, 3], dtype=int32), array([2, 1, 0, 0, 1, 2, 1, 0], dtype=int32), array([2, 1, 0, 1, 2, 1, 2, 3], dtype=int32), array([2, 3, 4, 3], dtype=int32), array([2, 3, 2, 3, 4, 3, 4, 3], dtype=int32), array([2, 3, 2, 1, 0, 0, 1, 2], dtype=int32), array([2, 1, 2, 1, 2, 3, 2, 1], dtype=int32), array([2, 3, 2, 3, 2, 3, 2, 1], dtype=int32), array([2, 3, 4, 3, 2, 3, 2, 1], dtype=int32), array([2, 3, 2, 1, 2, 1, 0, 1], dtype=int32), array([2, 1, 2, 1, 2, 1, 0, 1], dtype=int32), array([2, 3, 4, 3, 2, 3], dtype=int32), array([2, 3, 2, 1, 2, 3, 2, 3], dtype=int32), array([2, 3, 4, 3, 4, 3, 2, 1], dtype=int32), array([2, 3], dtype=int32), array([2, 1, 2, 3], dtype=int32), array([2, 3, 2, 1, 2, 1, 0, 1], dtype=int32), array([2, 1, 0, 0, 0, 0, 0, 1], dtype=int32), array([2, 1, 0, 0, 1, 0, 1, 0], dtype=int32), array([2, 1, 0, 1, 0, 0, 1, 0], dtype=int32), array([2, 3], dtype=int32), array([2, 3, 2, 3, 2, 1, 0, 1], dtype=int32), array([2, 1, 0, 0, 0, 1, 0, 1], dtype=int32), array([2, 3, 2, 1, 0, 0, 0, 1], dtype=int32), array([2, 1, 0, 0, 0, 0, 0, 1], dtype=int32), array([2, 1, 2, 3, 2, 3, 4, 3], dtype=int32), array([2, 3, 2, 3], dtype=int32), array([2, 3], dtype=int32), array([2, 3, 2, 1, 0, 0, 1, 2], dtype=int32), array([2, 1, 2, 1, 2, 3, 4, 3], dtype=int32), array([2, 1, 2, 3, 2, 3], dtype=int32), array([2, 1, 0, 0, 1, 0, 0, 1], dtype=int32), array([2, 3], dtype=int32), array([2, 1, 2, 3, 2, 3, 4, 3], dtype=int32), array([2, 3, 4, 3, 4, 3, 4, 3], dtype=int32), array([2, 1, 2, 3], dtype=int32), array([2, 3], dtype=int32), array([2, 3, 4, 3, 4, 3, 4, 3], dtype=int32), array([2, 3, 2, 1, 0, 0, 1, 2], dtype=int32), array([2, 3, 2, 3], dtype=int32), array([2, 1, 0, 0, 1, 2, 3], dtype=int32), array([2, 1, 0, 1, 2, 1, 2, 1], dtype=int32), array([2, 1, 2, 1, 2, 3, 2, 3], dtype=int32), array([2, 1, 2, 1, 0, 0, 1, 0], dtype=int32), array([2, 1, 0, 1, 0, 1, 2, 3], dtype=int32), array([2, 3, 2, 1, 0, 1, 2, 1], dtype=int32), array([2, 1, 0, 1, 2, 3, 4, 3], dtype=int32), array([2, 3, 2, 3, 4, 3, 4, 3], dtype=int32), array([2, 1, 0, 1, 0, 0, 0, 0], dtype=int32), array([2, 1, 2, 3], dtype=int32), array([2, 1, 0, 0, 1, 0, 0, 1], dtype=int32), array([2, 1, 0, 1, 2, 3, 4, 3], dtype=int32), array([2, 1, 2, 3, 2, 1, 0, 1], dtype=int32), array([2, 1, 0, 0, 1, 2, 3, 4], dtype=int32), array([2, 1, 2, 3, 2, 1, 0, 1], dtype=int32), array([2, 3, 4, 3, 2, 3], dtype=int32), array([2, 3, 2, 3, 2, 1, 2, 3], dtype=int32), array([2, 3], dtype=int32), array([2, 3, 2, 1, 2, 3], dtype=int32), array([2, 1, 2, 3, 2, 3], dtype=int32), array([2, 1, 0, 1, 2, 1, 2, 1], dtype=int32), array([2, 1, 0, 1, 0, 1, 0, 1], dtype=int32), array([2, 3, 2, 3, 2, 1, 0, 0], dtype=int32), array([2, 1, 0, 1, 0, 1, 0, 0], dtype=int32), array([2, 3, 2, 1, 2, 3], dtype=int32), array([2, 3, 4, 3], dtype=int32), array([2, 3], dtype=int32), array([2, 3, 2, 1, 0, 0, 0, 0], dtype=int32), array([2, 3, 2, 1, 0, 0, 0, 0], dtype=int32), array([2, 1, 0, 1, 2, 3, 4, 3], dtype=int32), array([2, 3, 4, 3], dtype=int32), array([2, 1, 0, 0, 0, 1, 2, 3], dtype=int32), array([2, 1, 2, 1, 2, 1, 2, 3], dtype=int32), array([2, 3, 2, 3, 4, 3, 4, 3], dtype=int32), array([2, 1, 0, 1, 2, 1, 2, 1], dtype=int32), array([2, 3, 2, 1, 2, 1, 0, 1], dtype=int32), array([2, 3, 2, 1, 2, 3, 2, 1], dtype=int32), array([2, 1, 2, 1, 2, 1, 0, 0], dtype=int32), array([2, 3], dtype=int32), array([2, 3], dtype=int32), array([2, 3, 2, 1, 0, 1, 2, 3], dtype=int32), array([2, 1, 0, 1, 2, 3, 4, 3], dtype=int32), array([2, 3, 4, 3, 2, 3, 2, 3], dtype=int32), array([2, 1, 0, 0, 0, 0, 0, 1], dtype=int32), array([2, 3], dtype=int32), array([2, 1, 0, 1, 0, 0, 1, 2], dtype=int32), array([2, 1, 2, 3], dtype=int32), array([2, 3], dtype=int32), array([2, 1, 0, 0, 0, 1, 2, 1], dtype=int32), array([2, 3], dtype=int32), array([2, 1, 0, 0, 1, 2, 3, 2], dtype=int32), array([2, 3, 4, 3, 2, 3, 4, 3], dtype=int32), array([2, 3, 2, 3, 2, 3, 2, 1], dtype=int32), array([2, 3, 2, 1, 0, 0, 0, 0], dtype=int32), array([2, 3], dtype=int32), array([2, 3, 4, 3, 2, 1, 0, 0], dtype=int32), array([2, 1, 0, 0, 0, 1, 0, 0], dtype=int32), array([2, 1, 2, 1, 0, 1, 0, 0], dtype=int32), array([2, 3, 4, 3], dtype=int32), array([2, 1, 0, 0, 0, 0, 1, 2], dtype=int32), array([2, 1, 2, 3, 2, 3, 4, 3], dtype=int32), array([2, 3, 2, 1, 0, 0, 0, 1], dtype=int32), array([2, 1, 2, 3, 2, 1, 2, 1], dtype=int32), array([2, 3, 2, 1, 0, 1, 2, 1], dtype=int32), array([2, 3], dtype=int32), array([2, 1, 2, 1, 0, 1, 0, 1], dtype=int32), array([2, 3], dtype=int32), array([2, 3, 4, 3, 2, 1, 0, 0], dtype=int32), array([2, 1, 2, 1, 0, 1, 2, 1], dtype=int32), array([2, 1, 0, 0, 0, 0, 1, 0], dtype=int32), array([2, 1, 0, 1, 0, 0, 0, 0], dtype=int32), array([2, 3], dtype=int32), array([2, 3], dtype=int32), array([2, 1, 0, 0, 0, 1, 0, 1], dtype=int32), array([2, 3, 4, 3, 2, 1, 2, 3], dtype=int32), array([2, 3, 2, 1, 2, 3, 2, 3], dtype=int32), array([2, 3], dtype=int32), array([2, 1, 2, 1, 2, 1, 0, 1], dtype=int32), array([2, 1, 2, 3], dtype=int32), array([2, 1, 0, 0, 1, 2, 3, 2], dtype=int32), array([2, 3, 2, 1, 2, 3, 2, 3], dtype=int32), array([2, 3, 2, 3, 2, 1, 2, 3], dtype=int32), array([2, 3], dtype=int32), array([2, 1, 2, 3, 4, 3, 2, 1], dtype=int32), array([2, 3, 2, 3], dtype=int32), array([2, 1, 0, 1, 2, 1, 2, 1], dtype=int32), array([2, 1, 2, 1, 2, 3, 2, 3], dtype=int32), array([2, 1, 2, 1, 0, 1, 0, 0], dtype=int32), array([2, 1, 0, 0, 1, 0, 1, 2], dtype=int32), array([2, 3, 2, 3, 2, 3], dtype=int32), array([2, 3, 4, 3, 4, 3, 2, 3], dtype=int32), array([2, 1, 0, 0, 1, 2, 3], dtype=int32), array([2, 3], dtype=int32), array([2, 1, 2, 1, 0, 0, 0, 0], dtype=int32), array([2, 1, 0, 1, 0, 0, 1, 0], dtype=int32), array([2, 1, 0, 1, 0, 1, 0, 1], dtype=int32), array([2, 1, 2, 3, 2, 3, 2, 1], dtype=int32), array([2, 3, 4, 3, 4, 3], dtype=int32), array([2, 1, 0, 1, 0, 1, 2, 3], dtype=int32), array([2, 3, 2, 1, 2, 1, 0, 0], dtype=int32), array([2, 1, 2, 1, 2, 1, 0, 0], dtype=int32), array([2, 3, 4, 3], dtype=int32), array([2, 3, 2, 1, 0, 0, 1, 0], dtype=int32), array([2, 1, 0, 1, 2, 1, 0, 0], dtype=int32), array([2, 1, 2, 3, 4, 3, 4, 3], dtype=int32), array([2, 3, 2, 1, 2, 3, 4, 3], dtype=int32), array([2, 3, 4, 3], dtype=int32), array([2, 1, 0, 1, 2, 1, 2, 3], dtype=int32), array([2, 1, 0, 0, 0, 0, 1, 0], dtype=int32), array([2, 1, 0, 0, 0, 1, 2, 1], dtype=int32), array([2, 3, 2, 1, 2, 1, 0, 1], dtype=int32), array([2, 1, 2, 1, 0, 0, 1, 2], dtype=int32), array([2, 3], dtype=int32), array([2, 3, 4, 3, 4, 3, 2, 3], dtype=int32), array([2, 1, 0, 1, 0, 1, 2, 3], dtype=int32), array([2, 3], dtype=int32), array([2, 1, 2, 3, 2, 1, 0, 1], dtype=int32), array([2, 3, 4, 3, 2, 3, 2, 3], dtype=int32), array([2, 3, 4, 3, 2, 3, 2, 3], dtype=int32), array([2, 3], dtype=int32), array([2, 3, 2, 3, 2, 1, 0, 1], dtype=int32), array([2, 1, 0, 1, 0, 0, 0, 1], dtype=int32), array([2, 1, 2, 3, 4, 3, 4, 3], dtype=int32), array([2, 1, 2, 3, 4, 3, 2, 3], dtype=int32), array([2, 3, 2, 3, 2, 3, 4, 3], dtype=int32), array([2, 1, 2, 1, 0, 0, 0, 1], dtype=int32), array([2, 3], dtype=int32), array([2, 1, 2, 3, 4, 3, 2, 3], dtype=int32), array([2, 3], dtype=int32), array([2, 1, 0, 0, 0, 0, 0, 1], dtype=int32), array([2, 1, 0, 1, 2, 1, 0, 1], dtype=int32), array([2, 3, 2, 3, 4, 3], dtype=int32), array([2, 1, 2, 3, 2, 1, 2, 1], dtype=int32), array([2, 3], dtype=int32), array([2, 3, 2, 3, 4, 3, 2, 1], dtype=int32), array([2, 3], dtype=int32), array([2, 1, 2, 3], dtype=int32), array([2, 1, 2, 3, 4, 3], dtype=int32), array([2, 3, 4, 3, 2, 3, 2, 1], dtype=int32), array([2, 3], dtype=int32), array([2, 1, 2, 1, 2, 3, 2, 1], dtype=int32), array([2, 1, 2, 1, 0, 0, 0, 1], dtype=int32), array([2, 3, 2, 1, 2, 1, 2, 1], dtype=int32), array([2, 3, 2, 1, 2, 1, 0, 0], dtype=int32), array([2, 1, 2, 1, 2, 1, 0, 1], dtype=int32), array([2, 1, 2, 1, 2, 1, 2, 3], dtype=int32), array([2, 1, 0, 1, 0, 1, 0, 1], dtype=int32), array([2, 3, 4, 3, 2, 3, 2, 1], dtype=int32), array([2, 3], dtype=int32), array([2, 3, 4, 3, 4, 3, 4, 3], dtype=int32), array([2, 1, 2, 1, 0, 0, 1, 2], dtype=int32), array([2, 1, 2, 1, 2, 1, 0, 1], dtype=int32), array([2, 1, 0, 1, 2, 3], dtype=int32), array([2, 1, 0, 1, 0, 0, 1, 0], dtype=int32), array([2, 3, 2, 1, 0, 0, 0, 0], dtype=int32), array([2, 3], dtype=int32), array([2, 3], dtype=int32), array([2, 1, 2, 3, 2, 3, 4, 3], dtype=int32), array([2, 3, 2, 1, 0, 1, 2, 1], dtype=int32), array([2, 3, 2, 3], dtype=int32), array([2, 1, 2, 3, 4, 3, 2, 3], dtype=int32), array([2, 1, 2, 1, 0, 1, 0, 0], dtype=int32), array([2, 3], dtype=int32), array([2, 3, 4, 3], dtype=int32), array([2, 3, 2, 1, 2, 3, 4, 3], dtype=int32), array([2, 1, 2, 1, 2, 1, 2, 1], dtype=int32), array([2, 1, 2, 3, 2, 3, 2, 3], dtype=int32), array([2, 3, 2, 1, 2, 1, 2, 3], dtype=int32), array([2, 3, 2, 1, 0, 1, 2, 3], dtype=int32), array([2, 3, 4, 3, 2, 1, 0, 1], dtype=int32), array([2, 1, 2, 1, 0, 0, 1, 0], dtype=int32), array([2, 1, 0, 1, 0, 1, 0, 0], dtype=int32), array([2, 1, 2, 1, 2, 1, 2, 3], dtype=int32), array([2, 3, 2, 3, 4, 3, 2, 1], dtype=int32), array([2, 1, 0, 1, 2, 1, 0, 0], dtype=int32), array([2, 1, 2, 1, 2, 3, 4, 3], dtype=int32), array([2, 1, 2, 1, 2, 3, 4, 3], dtype=int32), array([2, 1, 2, 3, 2, 1, 2, 3], dtype=int32), array([2, 1, 2, 1, 2, 1, 2, 3], dtype=int32), array([2, 1, 0, 1, 2, 3, 2, 1], dtype=int32), array([2, 1, 0, 0, 1, 0, 0, 1], dtype=int32), array([2, 3], dtype=int32), array([2, 3, 2, 3], dtype=int32), array([2, 3, 4, 3, 4, 3, 2, 1], dtype=int32), array([2, 1, 0, 1, 0, 1, 0, 0], dtype=int32), array([2, 3], dtype=int32), array([2, 1, 2, 1, 2, 3, 4, 3], dtype=int32), array([2, 1, 2, 3, 2, 1, 2, 1], dtype=int32), array([2, 3, 2, 3, 2, 1, 2, 1], dtype=int32), array([2, 1, 0, 0, 0, 1, 0, 0], dtype=int32), array([2, 1, 0, 0, 0, 1, 2, 3], dtype=int32), array([2, 1, 2, 3, 4, 3, 2, 3], dtype=int32), array([2, 1, 0, 0, 1, 2, 1, 2], dtype=int32), array([2, 3], dtype=int32), array([2, 3], dtype=int32), array([2, 3, 2, 3, 2, 3, 2, 3], dtype=int32), array([2, 1, 0, 0, 0, 0, 0, 0], dtype=int32), array([2, 3], dtype=int32), array([2, 3, 2, 1, 2, 1, 2, 3], dtype=int32), array([2, 3, 4, 3, 4, 3, 4, 3], dtype=int32), array([2, 3, 4, 3], dtype=int32), array([2, 1, 0, 0, 0, 1, 0, 1], dtype=int32), array([2, 1, 2, 1, 0, 0, 1, 0], dtype=int32), array([2, 3], dtype=int32), array([2, 3, 2, 3, 4, 3, 4, 3], dtype=int32), array([2, 1, 2, 1, 2, 1, 0, 1], dtype=int32), array([2, 1, 0, 1, 2, 3, 4, 3], dtype=int32), array([2, 1, 2, 3, 4, 3, 2, 1], dtype=int32), array([2, 1, 2, 3, 2, 1, 2, 3], dtype=int32), array([2, 3], dtype=int32), array([2, 1, 0, 1, 2, 1, 2, 3], dtype=int32), array([2, 1, 0, 0, 0, 1, 2, 1], dtype=int32), array([2, 3, 2, 1, 2, 1, 2, 3], dtype=int32), array([2, 1, 0, 0, 1, 2, 1, 0], dtype=int32), array([2, 1, 0, 0, 1, 0, 0, 1], dtype=int32), array([2, 3, 4, 3, 2, 1, 0, 1], dtype=int32), array([2, 3], dtype=int32), array([2, 3], dtype=int32), array([2, 3, 4, 3, 2, 1, 2, 3], dtype=int32), array([2, 3, 2, 1, 0, 0, 0, 1], dtype=int32), array([2, 3, 4, 3], dtype=int32), array([2, 3, 4, 3, 2, 3], dtype=int32), array([2, 1, 0, 1, 0, 0, 1, 0], dtype=int32), array([2, 3, 2, 1, 0, 1, 0, 1], dtype=int32), array([2, 3], dtype=int32), array([2, 3, 2, 1, 2, 1, 0, 1], dtype=int32), array([2, 1, 2, 1, 2, 3], dtype=int32), array([2, 3], dtype=int32), array([2, 3], dtype=int32), array([2, 3, 2, 1, 2, 1, 0, 1], dtype=int32), array([2, 1, 0, 1, 2, 3, 2, 3], dtype=int32), array([2, 1, 0, 0, 1, 2, 3], dtype=int32), array([2, 1, 0, 1, 2, 3, 2, 1], dtype=int32), array([2, 3, 4, 3, 2, 1, 2, 3], dtype=int32), array([2, 3, 2, 1, 2, 1, 0, 1], dtype=int32), array([2, 3, 2, 3, 2, 3, 2, 1], dtype=int32), array([2, 1, 2, 1, 2, 3, 4, 3], dtype=int32), array([2, 3, 2, 1, 2, 1, 2, 3], dtype=int32), array([2, 3, 2, 3, 4, 3, 4, 3], dtype=int32), array([2, 3, 2, 1, 2, 1, 0, 0], dtype=int32), array([2, 3, 4, 3, 2, 1, 2, 1], dtype=int32), array([2, 1, 0, 1, 0, 0, 0, 0], dtype=int32), array([2, 1, 0, 0, 1, 0, 0, 0], dtype=int32), array([2, 3, 2, 3, 2, 1, 0, 1], dtype=int32), array([2, 1, 2, 3, 2, 1, 0, 0], dtype=int32), array([2, 1, 2, 1, 0, 1, 2, 1], dtype=int32), array([2, 1, 0, 1, 0, 1, 2, 3], dtype=int32), array([2, 3, 2, 1, 0, 0, 0, 1], dtype=int32), array([2, 3, 2, 1, 0, 0, 0, 0], dtype=int32), array([2, 3, 4, 3, 2, 3], dtype=int32), array([2, 1, 2, 1, 0, 0, 1, 2], dtype=int32), array([2, 1, 2, 3, 4, 3, 4, 3], dtype=int32), array([2, 3, 2, 3, 2, 1, 2, 3], dtype=int32), array([2, 3], dtype=int32), array([2, 3, 2, 3, 2, 3, 2, 1], dtype=int32), array([2, 3, 2, 3, 2, 3, 2, 3], dtype=int32), array([2, 1, 2, 1, 0, 0, 1, 0], dtype=int32), array([2, 3, 2, 3, 2, 3, 2, 3], dtype=int32), array([2, 3, 4, 3, 2, 1, 0, 1], dtype=int32), array([2, 1, 2, 1, 0, 1, 2, 1], dtype=int32), array([2, 3, 2, 1, 0, 0, 0, 1], dtype=int32), array([2, 1, 0, 1, 0, 0, 1, 0], dtype=int32), array([2, 1, 0, 1, 0, 0, 0, 1], dtype=int32), array([2, 3, 2, 1, 2, 3, 2, 3], dtype=int32), array([2, 1, 0, 0, 1, 0, 1, 0], dtype=int32), array([2, 1, 0, 1, 2, 3, 2, 1], dtype=int32), array([2, 1, 2, 1, 0, 0, 0, 0], dtype=int32), array([2, 3, 4, 3, 4, 3, 2, 1], dtype=int32), array([2, 1, 2, 3, 2, 1, 0, 1], dtype=int32), array([2, 3, 4, 3, 2, 1, 0, 1], dtype=int32), array([2, 3], dtype=int32), array([2, 1, 0, 0, 0, 0, 0, 0], dtype=int32), array([2, 1, 2, 3, 2, 3], dtype=int32), array([2, 1, 2, 1, 2, 3, 2, 3], dtype=int32), array([2, 1, 2, 1, 2, 3, 2, 1], dtype=int32), array([2, 3, 4, 3, 4, 3, 2, 1], dtype=int32), array([2, 3], dtype=int32), array([2, 3, 4, 3, 2, 3, 4, 3], dtype=int32), array([2, 3, 2, 1, 0, 1, 2, 3], dtype=int32), array([2, 1, 2, 1, 0, 1, 2, 3], dtype=int32), array([2, 3, 2, 1, 0, 1, 0, 1], dtype=int32), array([2, 1, 2, 3, 4, 3, 4, 3], dtype=int32), array([2, 3, 4, 3, 2, 1, 0, 1], dtype=int32), array([2, 3, 2, 3, 2, 1, 0, 0], dtype=int32), array([2, 3, 2, 3, 4, 3], dtype=int32), array([2, 3, 2, 1, 2, 3, 4, 3], dtype=int32), array([2, 1, 2, 1, 2, 1, 2, 1], dtype=int32), array([2, 1, 2, 3, 2, 3, 4, 3], dtype=int32), array([2, 1, 0, 0, 0, 1, 2, 3], dtype=int32), array([2, 1, 2, 1, 0, 0, 0, 1], dtype=int32), array([2, 1, 0, 0, 1, 0, 0, 1], dtype=int32), array([2, 3], dtype=int32), array([2, 1, 2, 1, 2, 1, 2, 3], dtype=int32), array([2, 3], dtype=int32), array([2, 1, 0, 0, 0, 1, 2, 3], dtype=int32), array([2, 1, 0, 1, 2, 1, 0, 0], dtype=int32), array([2, 1, 0, 1, 0, 1, 2, 3], dtype=int32), array([2, 1, 0, 0, 1, 0, 0, 1], dtype=int32), array([2, 1, 0, 1, 2, 1, 0, 1], dtype=int32), array([2, 1, 2, 3, 2, 1, 0, 1], dtype=int32), array([2, 1, 0, 0, 0, 0, 1, 0], dtype=int32), array([2, 1, 2, 3, 2, 1, 2, 3], dtype=int32), array([2, 1, 0, 1, 0, 1, 0, 0], dtype=int32), array([2, 1, 0, 1, 0, 1, 0, 1], dtype=int32), array([2, 3, 2, 3, 4, 3, 2, 1], dtype=int32), array([2, 1, 0, 1, 0, 0, 0, 1], dtype=int32), array([2, 1, 0, 1, 2, 1, 2, 3], dtype=int32), array([2, 3, 2, 1, 0, 0, 0, 1], dtype=int32), array([2, 3, 2, 3, 2, 1, 2, 3], dtype=int32), array([2, 1, 2, 3], dtype=int32), array([2, 3, 2, 3, 4, 3], dtype=int32), array([2, 3, 2, 1, 0, 0, 0, 1], dtype=int32), array([2, 3], dtype=int32), array([2, 1, 0, 0, 0, 1, 2, 1], dtype=int32), array([2, 3, 2, 1, 0, 1, 0, 1], dtype=int32), array([2, 1, 2, 1, 2, 1, 2, 1], dtype=int32), array([2, 3], dtype=int32), array([2, 3], dtype=int32), array([2, 1, 2, 1, 2, 1, 2, 3], dtype=int32), array([2, 3, 4, 3], dtype=int32), array([2, 1, 2, 3, 2, 1, 2, 1], dtype=int32), array([2, 3, 2, 1, 2, 1, 0, 1], dtype=int32), array([2, 3, 2, 3, 4, 3, 2, 3], dtype=int32), array([2, 3, 2, 3], dtype=int32), array([2, 3], dtype=int32), array([2, 1, 2, 3, 4, 3, 2, 3], dtype=int32), array([2, 1, 0, 0, 1, 0, 0, 1], dtype=int32), array([2, 3], dtype=int32), array([2, 1, 2, 3, 2, 3, 2, 1], dtype=int32), array([2, 1, 2, 3, 2, 3], dtype=int32), array([2, 1, 0, 1, 2, 1, 0, 1], dtype=int32), array([2, 3, 4, 3, 2, 3], dtype=int32), array([2, 3, 2, 1, 2, 1, 2, 1], dtype=int32), array([2, 3, 2, 3], dtype=int32), array([2, 1, 2, 3, 2, 1, 0, 1], dtype=int32), array([2, 1, 2, 1, 0, 1, 0, 1], dtype=int32), array([2, 1, 0, 0, 1, 0, 0, 1], dtype=int32), array([2, 1, 2, 3, 2, 1, 0, 0], dtype=int32), array([2, 1, 0, 1, 0, 0, 0, 1], dtype=int32), array([2, 1, 2, 3], dtype=int32), array([2, 1, 0, 1, 0, 1, 2, 3], dtype=int32), array([2, 3], dtype=int32), array([2, 1, 0, 1, 0, 1, 2, 1], dtype=int32), array([2, 3, 2, 1, 0, 1, 2, 1], dtype=int32), array([2, 3, 4, 3], dtype=int32), array([2, 3], dtype=int32), array([2, 3, 2, 3, 2, 1, 2, 3], dtype=int32), array([2, 1, 2, 1, 0, 1, 2, 3], dtype=int32), array([2, 3, 2, 1, 0, 0, 1, 0], dtype=int32), array([2, 3], dtype=int32), array([2, 3, 4, 3, 2, 1, 0, 0], dtype=int32), array([2, 1, 2, 3, 2, 1, 0, 0], dtype=int32), array([2, 3], dtype=int32), array([2, 1, 0, 1, 0, 0, 0, 0], dtype=int32), array([2, 3], dtype=int32), array([2, 3], dtype=int32), array([2, 1, 0, 1, 0, 1, 0, 0], dtype=int32), array([2, 3], dtype=int32), array([2, 1, 2, 1, 2, 3, 2, 1], dtype=int32), array([2, 1, 0, 0, 0, 1, 2, 1], dtype=int32), array([2, 1, 2, 3, 2, 1, 2, 3], dtype=int32), array([2, 3, 2, 3, 4, 3, 4, 3], dtype=int32), array([2, 1, 2, 3, 4, 3, 2, 1], dtype=int32), array([2, 1, 2, 1, 2, 1, 0, 0], dtype=int32), array([2, 3, 4, 3, 2, 1, 2, 3], dtype=int32), array([2, 1, 0, 0, 1, 2, 1, 2], dtype=int32), array([2, 1, 2, 1, 0, 0, 1, 2], dtype=int32), array([2, 3, 2, 1, 2, 1, 2, 1], dtype=int32), array([2, 3, 2, 3], dtype=int32), array([2, 3, 2, 3], dtype=int32), array([2, 3], dtype=int32), array([2, 1, 2, 3], dtype=int32), array([2, 1, 2, 3, 4, 3], dtype=int32), array([2, 1, 2, 3], dtype=int32), array([2, 1, 0, 0, 1, 2, 1, 0], dtype=int32), array([2, 3, 2, 3, 2, 3, 2, 1], dtype=int32), array([2, 1, 2, 3, 4, 3, 4, 3], dtype=int32), array([2, 1, 2, 1, 0, 0, 1, 2], dtype=int32), array([2, 1, 2, 1, 2, 1, 2, 1], dtype=int32), array([2, 1, 0, 0, 0, 0, 0, 0], dtype=int32), array([2, 3, 2, 1, 0, 0, 0, 0], dtype=int32), array([2, 3, 2, 3, 2, 3, 2, 1], dtype=int32), array([2, 3, 2, 1, 2, 3, 2, 1], dtype=int32), array([2, 3], dtype=int32), array([2, 3, 2, 3, 4, 3], dtype=int32), array([2, 3, 4, 3, 2, 3, 2, 3], dtype=int32), array([2, 3], dtype=int32), array([2, 3, 2, 3, 4, 3, 2, 1], dtype=int32), array([2, 1, 0, 1, 2, 3, 2, 1], dtype=int32), array([2, 1, 0, 1, 2, 1, 2, 3], dtype=int32), array([2, 3, 4, 3, 4, 3, 4, 3], dtype=int32), array([2, 3, 2, 1, 0, 0, 0, 0], dtype=int32), array([2, 3, 4, 3, 2, 3], dtype=int32), array([2, 1, 0, 0, 1, 2, 3], dtype=int32), array([2, 1, 0, 1, 2, 1, 2, 3], dtype=int32), array([2, 3, 4, 3, 2, 3, 2, 1], dtype=int32), array([2, 1, 0, 0, 1, 0, 1, 0], dtype=int32), array([2, 3, 2, 3], dtype=int32), array([2, 1, 0, 0, 1, 2, 1, 0], dtype=int32), array([2, 3, 2, 1, 0, 1, 0, 1], dtype=int32), array([2, 1, 2, 3, 4, 3], dtype=int32), array([2, 3, 2, 3, 2, 1, 2, 3], dtype=int32), array([2, 3, 4, 3, 2, 1, 0, 0], dtype=int32), array([2, 1, 2, 3, 2, 1, 2, 3], dtype=int32), array([2, 1, 2, 1, 0, 1, 2, 1], dtype=int32), array([2, 3, 2, 1, 0, 0, 1, 2], dtype=int32), array([2, 1, 2, 1, 0, 1, 0, 1], dtype=int32), array([2, 3, 2, 1, 2, 3], dtype=int32), array([2, 1, 0, 0, 1, 0, 1, 2], dtype=int32), array([2, 3, 2, 1, 0, 1, 2, 3], dtype=int32), array([2, 3, 2, 3, 2, 1, 2, 1], dtype=int32), array([2, 1, 2, 3, 4, 3, 4, 3], dtype=int32), array([2, 1, 2, 1, 0, 1, 0, 1], dtype=int32), array([2, 1, 0, 0, 1, 0, 1, 0], dtype=int32), array([2, 3, 2, 3, 2, 3, 2, 3], dtype=int32), array([2, 1, 2, 3, 4, 3, 4, 3], dtype=int32), array([2, 1, 2, 3], dtype=int32), array([2, 1, 2, 3], dtype=int32), array([2, 1, 0, 1, 0, 1, 2, 1], dtype=int32), array([2, 1, 2, 1, 2, 3], dtype=int32), array([2, 3, 4, 3, 2, 1, 0, 1], dtype=int32), array([2, 3, 2, 1, 0, 0, 0, 1], dtype=int32), array([2, 1, 0, 1, 0, 0, 0, 0], dtype=int32), array([2, 1, 0, 0, 0, 0, 1, 2], dtype=int32), array([2, 3], dtype=int32), array([2, 3, 2, 1, 0, 0, 0, 1], dtype=int32), array([2, 1, 0, 1, 0, 0, 0, 0], dtype=int32), array([2, 1, 0, 0, 0, 1, 0, 0], dtype=int32), array([2, 3, 2, 3, 2, 3, 2, 1], dtype=int32), array([2, 3, 4, 3], dtype=int32), array([2, 1, 0, 1, 0, 1, 0, 0], dtype=int32), array([2, 3, 4, 3], dtype=int32), array([2, 1, 2, 3, 2, 3, 2, 1], dtype=int32), array([2, 3, 2, 1, 2, 3, 4, 3], dtype=int32), array([2, 1, 0, 1, 2, 1, 0, 0], dtype=int32), array([2, 1, 2, 3, 4, 3, 4, 3], dtype=int32), array([2, 3], dtype=int32), array([2, 1, 0, 1, 0, 0, 0, 0], dtype=int32), array([2, 3, 4, 3], dtype=int32), array([2, 1, 2, 3, 2, 3, 4, 3], dtype=int32), array([2, 3, 2, 1, 0, 1, 0, 1], dtype=int32), array([2, 1, 2, 3, 2, 3, 4, 3], dtype=int32), array([2, 1, 2, 3], dtype=int32), array([2, 1, 2, 3, 2, 1, 0, 0], dtype=int32), array([2, 3, 2, 3, 2, 1, 2, 3], dtype=int32), array([2, 1, 2, 1, 0, 1, 2, 3], dtype=int32), array([2, 1, 2, 1, 2, 1, 2, 1], dtype=int32), array([2, 1, 2, 3, 2, 3, 4, 3], dtype=int32), array([2, 3, 4, 3, 4, 3, 4, 3], dtype=int32), array([2, 3, 2, 3, 2, 3, 4, 3], dtype=int32), array([2, 1, 2, 1, 0, 1, 2, 3], dtype=int32), array([2, 3], dtype=int32), array([2, 3], dtype=int32), array([2, 1, 0, 1, 0, 0, 1, 2], dtype=int32), array([2, 1, 0, 1, 2, 1, 2, 1], dtype=int32), array([2, 3, 4, 3, 4, 3], dtype=int32), array([2, 3, 2, 1, 2, 3], dtype=int32), array([2, 1, 0, 1, 2, 3], dtype=int32), array([2, 3, 2, 1, 0, 1, 2, 3], dtype=int32), array([2, 1, 2, 3, 2, 3], dtype=int32), array([2, 3, 4, 3, 4, 3, 4, 3], dtype=int32), array([2, 1, 2, 1, 2, 1, 0, 0], dtype=int32), array([2, 1, 0, 1, 2, 1, 2, 1], dtype=int32), array([2, 3, 2, 1, 0, 1, 0, 1], dtype=int32), array([2, 1, 0, 0, 1, 0, 0, 0], dtype=int32), array([2, 1, 2, 3, 4, 3, 2, 3], dtype=int32), array([2, 1, 2, 1, 2, 3, 2, 1], dtype=int32), array([2, 3, 2, 1, 0, 0, 1, 2], dtype=int32), array([2, 3, 2, 1, 0, 1, 2, 1], dtype=int32), array([2, 3], dtype=int32), array([2, 3, 4, 3], dtype=int32), array([2, 1, 0, 1, 2, 3, 2, 1], dtype=int32), array([2, 3, 4, 3, 2, 3, 2, 1], dtype=int32), array([2, 3, 2, 1, 0, 0, 0, 1], dtype=int32), array([2, 3, 2, 3, 2, 3], dtype=int32), array([2, 3, 4, 3, 2, 3, 4, 3], dtype=int32), array([2, 1, 0, 1, 2, 3, 2, 1], dtype=int32), array([2, 3, 2, 1, 2, 1, 2, 3], dtype=int32), array([2, 1, 0, 0, 1, 2, 3, 2], dtype=int32), array([2, 1, 2, 1, 2, 1, 0, 1], dtype=int32), array([2, 1, 2, 3, 2, 3, 4, 3], dtype=int32), array([2, 3, 2, 3, 2, 1, 2, 3], dtype=int32), array([2, 1, 2, 3, 2, 3, 2, 1], dtype=int32), array([2, 1, 0, 0, 1, 0, 1, 0], dtype=int32), array([2, 1, 0, 0, 0, 1, 2, 3], dtype=int32), array([2, 3, 4, 3, 2, 1, 2, 3], dtype=int32), array([2, 1, 0, 1, 2, 3], dtype=int32), array([2, 3, 4, 3, 2, 3, 2, 3], dtype=int32), array([2, 1, 0, 1, 2, 1, 2, 3], dtype=int32), array([2, 1, 2, 3], dtype=int32), array([2, 3, 2, 3, 4, 3, 2, 3], dtype=int32), array([2, 1, 0, 1, 0, 0, 1, 2], dtype=int32), array([2, 1, 2, 1, 0, 1, 0, 0], dtype=int32), array([2, 1, 0, 0, 1, 2, 1, 0], dtype=int32), array([2, 1, 2, 1, 2, 1, 0, 0], dtype=int32), array([2, 1, 2, 1, 2, 3, 2, 1], dtype=int32), array([2, 3], dtype=int32), array([2, 1, 0, 1, 2, 1, 0, 1], dtype=int32), array([2, 3, 4, 3, 2, 3], dtype=int32), array([2, 1, 0, 0, 0, 0, 1, 0], dtype=int32), array([2, 3], dtype=int32), array([2, 1, 0, 1, 2, 3, 4, 3], dtype=int32), array([2, 1, 0, 0, 1, 0, 1, 2], dtype=int32), array([2, 3], dtype=int32), array([2, 3, 4, 3, 4, 3, 4, 3], dtype=int32), array([2, 1, 2, 3, 2, 3, 2, 3], dtype=int32), array([2, 3], dtype=int32), array([2, 3, 2, 3, 2, 3, 2, 1], dtype=int32), array([2, 3, 2, 3, 2, 3], dtype=int32), array([2, 1, 2, 1, 0, 1, 2, 1], dtype=int32), array([2, 1, 2, 3, 2, 3, 2, 3], dtype=int32), array([2, 3, 2, 3, 4, 3, 4, 3], dtype=int32), array([2, 3], dtype=int32), array([2, 3, 2, 3, 4, 3], dtype=int32), array([2, 3, 4, 3], dtype=int32), array([2, 1, 2, 3, 2, 3, 4, 3], dtype=int32), array([2, 3, 4, 3, 2, 3, 2, 1], dtype=int32), array([2, 1, 2, 1, 0, 0, 0, 0], dtype=int32), array([2, 3, 2, 3, 2, 3, 2, 1], dtype=int32), array([2, 1, 0, 0, 0, 1, 0, 1], dtype=int32), array([2, 1, 2, 3, 4, 3, 4, 3], dtype=int32), array([2, 3, 2, 1, 0, 0, 0, 1], dtype=int32), array([2, 1, 0, 1, 2, 1, 2, 3], dtype=int32), array([2, 1, 0, 1, 2, 3, 2, 1], dtype=int32), array([2, 1, 2, 3, 2, 1, 2, 3], dtype=int32), array([2, 3], dtype=int32), array([2, 3, 2, 3, 2, 3, 4, 3], dtype=int32), array([2, 1, 0, 0, 1, 0, 1, 2], dtype=int32), array([2, 1, 2, 1, 2, 3, 4, 3], dtype=int32), array([2, 1, 0, 1, 0, 1, 0, 1], dtype=int32), array([2, 3, 4, 3, 2, 1, 2, 3], dtype=int32), array([2, 3, 2, 1, 0, 0, 1, 2], dtype=int32), array([2, 3, 4, 3, 2, 3], dtype=int32), array([2, 3, 4, 3], dtype=int32), array([2, 1, 2, 1, 2, 3, 2, 3], dtype=int32), array([2, 1, 0, 1, 2, 1, 2, 3], dtype=int32), array([2, 3, 2, 3, 2, 3, 4, 3], dtype=int32), array([2, 1, 0, 0, 0, 0, 0, 1], dtype=int32), array([2, 1, 0, 1, 2, 3, 2, 1], dtype=int32), array([2, 1, 2, 1, 0, 1, 0, 0], dtype=int32), array([2, 1, 0, 0, 1, 2, 3, 4], dtype=int32), array([2, 3, 2, 1, 2, 3], dtype=int32), array([2, 3, 2, 3, 2, 1, 0, 1], dtype=int32), array([2, 1, 0, 1, 2, 1, 0, 1], dtype=int32), array([2, 3], dtype=int32), array([2, 3, 2, 1, 0, 1, 2, 3], dtype=int32), array([2, 3, 2, 1, 0, 0, 0, 0], dtype=int32), array([2, 3, 2, 3, 2, 3, 2, 1], dtype=int32), array([2, 3, 4, 3, 4, 3, 4, 3], dtype=int32), array([2, 3, 2, 3, 2, 3, 2, 1], dtype=int32), array([2, 1, 2, 3, 2, 1, 2, 3], dtype=int32), array([2, 3, 2, 3, 4, 3, 4, 3], dtype=int32), array([2, 3, 2, 3], dtype=int32), array([2, 1, 2, 1, 0, 1, 0, 0], dtype=int32), array([2, 3, 2, 3], dtype=int32), array([2, 1, 2, 3, 2, 1, 2, 3], dtype=int32), array([2, 1, 2, 1, 2, 1, 2, 3], dtype=int32), array([2, 3, 2, 3, 2, 1, 0, 0], dtype=int32), array([2, 3, 2, 3, 2, 3], dtype=int32), array([2, 3, 4, 3, 2, 3, 2, 1], dtype=int32), array([2, 1, 2, 1, 2, 3, 2, 1], dtype=int32), array([2, 1, 2, 3], dtype=int32), array([2, 3, 2, 3, 2, 1, 0, 0], dtype=int32), array([2, 3], dtype=int32), array([2, 3, 4, 3, 2, 1, 0, 1], dtype=int32), array([2, 1, 2, 3], dtype=int32), array([2, 3, 2, 1, 2, 1, 0, 1], dtype=int32), array([2, 3, 2, 3, 2, 1, 0, 0], dtype=int32), array([2, 3, 2, 1, 0, 1, 0, 0], dtype=int32), array([2, 1, 0, 0, 0, 0, 0, 0], dtype=int32), array([2, 1, 2, 3, 2, 1, 0, 0], dtype=int32), array([2, 1, 2, 1, 2, 3, 4, 3], dtype=int32), array([2, 3, 2, 3], dtype=int32), array([2, 3, 4, 3, 2, 1, 0, 0], dtype=int32), array([2, 1, 0, 1, 2, 1, 2, 3], dtype=int32), array([2, 3, 4, 3, 2, 1, 2, 3], dtype=int32), array([2, 1, 0, 1, 0, 1, 0, 0], dtype=int32), array([2, 1, 2, 1, 0, 0, 0, 1], dtype=int32), array([2, 3], dtype=int32), array([2, 1, 0, 0, 1, 2, 1, 0], dtype=int32), array([2, 1, 0, 1, 0, 0, 1, 2], dtype=int32), array([2, 1, 2, 1, 0, 1, 0, 0], dtype=int32), array([2, 1, 0, 1, 0, 0, 0, 0], dtype=int32), array([2, 1, 0, 0, 0, 0, 0, 1], dtype=int32), array([2, 3, 4, 3], dtype=int32), array([2, 3], dtype=int32), array([2, 1, 0, 1, 2, 3, 2, 1], dtype=int32), array([2, 1, 0, 1, 2, 3], dtype=int32), array([2, 1, 2, 1, 0, 1, 2, 3], dtype=int32), array([2, 1, 0, 0, 0, 0, 0, 1], dtype=int32), array([2, 1, 2, 1, 2, 1, 0, 1], dtype=int32), array([2, 1, 0, 0, 0, 0, 0, 1], dtype=int32), array([2, 3], dtype=int32), array([2, 1, 0, 1, 0, 1, 0, 1], dtype=int32), array([2, 1, 2, 1, 0, 1, 0, 1], dtype=int32), array([2, 1, 0, 0, 1, 0, 0, 0], dtype=int32), array([2, 3], dtype=int32), array([2, 1, 2, 3, 2, 3], dtype=int32), array([2, 3, 2, 1, 2, 1, 2, 3], dtype=int32), array([2, 3, 2, 3, 2, 1, 0, 0], dtype=int32), array([2, 1, 0, 0, 0, 0, 1, 0], dtype=int32), array([2, 1, 2, 1, 0, 1, 2, 1], dtype=int32), array([2, 3], dtype=int32), array([2, 1, 2, 3], dtype=int32), array([2, 3, 2, 1, 0, 1, 2, 3], dtype=int32), array([2, 3, 2, 3, 2, 1, 2, 3], dtype=int32), array([2, 3, 4, 3, 2, 1, 2, 3], dtype=int32), array([2, 3, 2, 3, 4, 3], dtype=int32), array([2, 1, 2, 3, 2, 1, 2, 3], dtype=int32), array([2, 3, 4, 3, 2, 1, 2, 1], dtype=int32), array([2, 3, 2, 3, 2, 3, 4, 3], dtype=int32), array([2, 3, 2, 3, 2, 1, 0, 1], dtype=int32), array([2, 1, 0, 0, 0, 1, 2, 1], dtype=int32), array([2, 1, 2, 3, 2, 1, 0, 0], dtype=int32), array([2, 3], dtype=int32), array([2, 3, 2, 3], dtype=int32), array([2, 3], dtype=int32), array([2, 1, 2, 3], dtype=int32), array([2, 3, 2, 3], dtype=int32), array([2, 1, 2, 3, 4, 3], dtype=int32), array([2, 3, 4, 3, 2, 3, 2, 3], dtype=int32), array([2, 1, 0, 1, 2, 1, 0, 1], dtype=int32), array([2, 1, 0, 0, 0, 0, 0, 1], dtype=int32), array([2, 3, 2, 1, 0, 1, 2, 1], dtype=int32), array([2, 1, 2, 1, 2, 1, 2, 1], dtype=int32), array([2, 3], dtype=int32), array([2, 1, 2, 1, 2, 3, 2, 3], dtype=int32), array([2, 3, 2, 1, 2, 1, 0, 0], dtype=int32), array([2, 3, 4, 3], dtype=int32), array([2, 1, 0, 0, 0, 1, 2, 1], dtype=int32), array([2, 3, 2, 3, 4, 3, 2, 3], dtype=int32), array([2, 3, 2, 1, 2, 3, 4, 3], dtype=int32), array([2, 3, 2, 3, 4, 3], dtype=int32), array([2, 3], dtype=int32), array([2, 3, 4, 3, 2, 1, 2, 1], dtype=int32), array([2, 1, 2, 3, 2, 1, 2, 3], dtype=int32), array([2, 3, 2, 3, 4, 3, 4, 3], dtype=int32), array([2, 1, 0, 1, 0, 0, 0, 0], dtype=int32), array([2, 3, 2, 3], dtype=int32), array([2, 1, 2, 3, 2, 1, 2, 3], dtype=int32), array([2, 3, 2, 1, 2, 1, 0, 0], dtype=int32), array([2, 3, 4, 3, 2, 3], dtype=int32), array([2, 1, 0, 0, 1, 2, 3, 2], dtype=int32), array([2, 3, 2, 1, 2, 3, 2, 1], dtype=int32), array([2, 1, 2, 3, 2, 3, 4, 3], dtype=int32), array([2, 1, 2, 3, 2, 1, 2, 3], dtype=int32), array([2, 1, 0, 1, 0, 0, 0, 1], dtype=int32), array([2, 3], dtype=int32), array([2, 3], dtype=int32), array([2, 1, 2, 1, 2, 1, 0, 1], dtype=int32), array([2, 3, 2, 3, 2, 1, 2, 1], dtype=int32), array([2, 3, 2, 1, 2, 1, 2, 1], dtype=int32), array([2, 1, 2, 1, 0, 1, 0, 0], dtype=int32), array([2, 1, 0, 1, 2, 1, 0, 1], dtype=int32), array([2, 3, 2, 3, 2, 1, 2, 3], dtype=int32), array([2, 3, 2, 1, 2, 3, 2, 3], dtype=int32), array([2, 3, 2, 3, 4, 3], dtype=int32), array([2, 1, 2, 1, 0, 1, 0, 0], dtype=int32), array([2, 3, 2, 1, 0, 0, 1, 2], dtype=int32), array([2, 3, 2, 1, 0, 1, 0, 1], dtype=int32), array([2, 1, 0, 0, 0, 1, 0, 1], dtype=int32), array([2, 3, 2, 3, 2, 1, 2, 3], dtype=int32), array([2, 1, 2, 3], dtype=int32), array([2, 3, 4, 3, 2, 3], dtype=int32), array([2, 3], dtype=int32), array([2, 1, 2, 1, 2, 1, 0, 0], dtype=int32), array([2, 1, 0, 1, 2, 1, 0, 1], dtype=int32), array([2, 1, 2, 1, 0, 0, 1, 0], dtype=int32), array([2, 3, 2, 3, 2, 3, 2, 3], dtype=int32), array([2, 1, 0, 1, 2, 1, 2, 1], dtype=int32), array([2, 3, 4, 3, 2, 3, 2, 3], dtype=int32), array([2, 1, 0, 0, 0, 1, 0, 0], dtype=int32), array([2, 3, 4, 3], dtype=int32), array([2, 1, 2, 3, 2, 1, 0, 0], dtype=int32), array([2, 3, 4, 3, 4, 3, 2, 3], dtype=int32), array([2, 1, 2, 1, 0, 1, 0, 1], dtype=int32), array([2, 3, 4, 3, 4, 3, 4, 3], dtype=int32), array([2, 1, 2, 3], dtype=int32), array([2, 1, 0, 0, 0, 0, 0, 1], dtype=int32), array([2, 1, 0, 1, 0, 0, 0, 0], dtype=int32), array([2, 1, 0, 0, 0, 0, 1, 0], dtype=int32), array([2, 3], dtype=int32), array([2, 3, 2, 1, 2, 3, 2, 1], dtype=int32), array([2, 1, 2, 1, 2, 3, 2, 3], dtype=int32), array([2, 1, 2, 1, 0, 0, 0, 1], dtype=int32), array([2, 1, 2, 1, 2, 3, 2, 1], dtype=int32), array([2, 1, 0, 1, 0, 0, 0, 0], dtype=int32), array([2, 1, 2, 3, 4, 3], dtype=int32), array([2, 3, 4, 3, 4, 3, 2, 3], dtype=int32), array([2, 1, 2, 1, 2, 1, 2, 1], dtype=int32), array([2, 1, 2, 1, 2, 3, 2, 3], dtype=int32), array([2, 3, 4, 3, 2, 3, 2, 3], dtype=int32), array([2, 3, 4, 3], dtype=int32), array([2, 1, 2, 1, 2, 3, 2, 1], dtype=int32), array([2, 3, 2, 3], dtype=int32), array([2, 1, 2, 3], dtype=int32), array([2, 1, 2, 1, 2, 3, 4, 3], dtype=int32), array([2, 3, 4, 3, 2, 1, 0, 0], dtype=int32), array([2, 3, 2, 1, 0, 0, 0, 0], dtype=int32), array([2, 1, 0, 0, 0, 0, 1, 0], dtype=int32), array([2, 1, 0, 0, 0, 1, 2, 3], dtype=int32), array([2, 3, 4, 3], dtype=int32), array([2, 1, 0, 0, 1, 0, 1, 2], dtype=int32), array([2, 1, 0, 1, 0, 0, 0, 1], dtype=int32), array([2, 1, 2, 1, 0, 1, 0, 1], dtype=int32), array([2, 3, 2, 1, 2, 3, 2, 1], dtype=int32), array([2, 3, 4, 3, 2, 1, 2, 1], dtype=int32), array([2, 1, 0, 0, 1, 2, 1, 2], dtype=int32), array([2, 1, 0, 0, 1, 2, 3], dtype=int32), array([2, 1, 0, 0, 0, 0, 1, 0], dtype=int32), array([2, 3, 4, 3], dtype=int32), array([2, 1, 2, 1, 2, 3, 2, 1], dtype=int32), array([2, 1, 0, 1, 0, 0, 0, 0], dtype=int32), array([2, 3, 2, 3, 2, 3, 2, 1], dtype=int32), array([2, 3, 4, 3, 2, 1, 0, 0], dtype=int32), array([2, 1, 0, 1, 0, 0, 1, 2], dtype=int32), array([2, 1, 2, 3, 2, 1, 0, 0], dtype=int32), array([2, 1, 2, 1, 0, 0, 1, 2], dtype=int32), array([2, 3, 4, 3], dtype=int32), array([2, 3, 2, 1, 0, 1, 0, 0], dtype=int32), array([2, 3, 2, 3, 2, 1, 2, 3], dtype=int32), array([2, 1, 2, 1, 2, 1, 2, 1], dtype=int32), array([2, 3, 2, 3], dtype=int32), array([2, 1, 0, 0, 0, 1, 2, 1], dtype=int32), array([2, 3], dtype=int32), array([2, 3, 4, 3], dtype=int32), array([2, 1, 0, 0, 1, 2, 1, 0], dtype=int32), array([2, 1, 0, 1, 2, 1, 2, 3], dtype=int32), array([2, 3, 2, 3, 2, 3], dtype=int32), array([2, 1, 0, 0, 0, 0, 0, 1], dtype=int32), array([2, 1, 0, 0, 0, 0, 1, 0], dtype=int32), array([2, 1, 0, 0, 1, 2, 1, 2], dtype=int32), array([2, 3], dtype=int32), array([2, 1, 0, 0, 0, 0, 1, 2], dtype=int32), array([2, 1, 2, 3, 2, 3, 2, 3], dtype=int32), array([2, 3, 2, 1, 2, 1, 0, 0], dtype=int32), array([2, 1, 2, 1, 2, 3, 2, 3], dtype=int32), array([2, 1, 2, 3], dtype=int32), array([2, 3], dtype=int32), array([2, 3], dtype=int32), array([2, 3, 4, 3, 4, 3, 2, 3], dtype=int32), array([2, 3], dtype=int32), array([2, 3, 4, 3, 4, 3, 2, 1], dtype=int32), array([2, 1, 0, 1, 2, 1, 2, 3], dtype=int32), array([2, 3, 4, 3, 4, 3], dtype=int32)]\n",
      "1000\n"
     ]
    }
   ],
   "source": [
    "NUM_WALKS = 1000\n",
    "\n",
    "NUM_THREADS = 1\n",
    "\n",
    "walks = tf.TensorArray(tf.int32, size=NUM_WALKS)\n",
    "count2 = tf.Variable(0, tf.int32)\n",
    "\n",
    "cond = lambda c, w: tf.less(c, NUM_WALKS)\n",
    "\n",
    "def body(c, w):\n",
    "    next_c = c+1\n",
    "    www = get_walk()\n",
    "    w = w.write(c, www)\n",
    "    return next_c, w\n",
    "\n",
    "with Timer('Making Walks'):\n",
    "    count2, walks = tf.while_loop(cond, body, [count2, walks])\n",
    "\n",
    "with tf.Session() as sess2:\n",
    "\n",
    "    with Timer('Initialising global variables'):\n",
    "        sess2.run(tf.global_variables_initializer())\n",
    "\n",
    "    with Timer('Concatenating'):\n",
    "        ws = sess2.run([walks.concat()])\n",
    "        \n",
    "    print(ws)\n",
    "    print(ws[0].shape)\n",
    "        \n",
    "    with Timer('Building List'):\n",
    "        l_walks = [walks.read(i) for i in range(NUM_WALKS)]\n",
    "        \n",
    "    with Timer('Evaluating List'):        \n",
    "        ws = sess2.run(l_walks)\n",
    "        \n",
    "    print(ws)\n",
    "    print(len(ws))"
   ]
  },
  {
   "cell_type": "markdown",
   "metadata": {
    "collapsed": true
   },
   "source": [
    "For reinforcement learning systems, we need to track the actions, as well as the states. Rewards can subsequently be derived from the state, action, and following state"
   ]
  },
  {
   "cell_type": "code",
   "execution_count": 54,
   "metadata": {},
   "outputs": [
    {
     "name": "stdout",
     "output_type": "stream",
     "text": [
      "[2 3 4 3 2 1 2 3]\n",
      "[1 1 0 0 0 1 1]\n"
     ]
    }
   ],
   "source": [
    "def get_state_actions():\n",
    "\n",
    "    position = tf.Variable(2, tf.int32)    \n",
    "    count = tf.Variable(0, tf.int32)\n",
    "    \n",
    "    positions = tf.TensorArray(tf.int32, size=MAX_EPISODE_LENGTH)\n",
    "    positions = positions.write(count, position)\n",
    "    \n",
    "    actions = tf.TensorArray(tf.int32, size=MAX_EPISODE_LENGTH-1)\n",
    "\n",
    "    cond_not_terminal = lambda c, p, ps: tf.not_equal(p, TARGET_POSITION)\n",
    "    cond_not_max_length = lambda c, p, ps: tf.less(c, MAX_EPISODE_LENGTH-1)\n",
    "    cond = lambda c, p, a, ps: cond_not_terminal(c, p, ps) & cond_not_max_length(c, p, ps)\n",
    "\n",
    "    def body(c, p, positions, actions):\n",
    "        next_c = c+1\n",
    "        action_values = tf.random_uniform([2], )\n",
    "        action = choose_action(action_values)\n",
    "        actions = actions.write(c, action)\n",
    "        next_p = apply_action(p, action)\n",
    "        positions = positions.write(next_c, next_p)\n",
    "        return next_c, next_p, positions, actions\n",
    "\n",
    "    count, position, positions, actions = tf.while_loop(cond, body, (count, position, positions, actions))\n",
    "    rng = tf.range(count-1)\n",
    "    gathered_positions = positions.gather(rng)\n",
    "    gathered_actions = actions.gather(tf.range(count-2))\n",
    "    return gathered_positions, gathered_actions\n",
    "\n",
    "\n",
    "t_states, t_actions = get_state_actions()\n",
    "\n",
    "with tf.Session() as sess:\n",
    "    sess.run(tf.global_variables_initializer())\n",
    "    states, actions = sess.run([t_states, t_actions])\n",
    "    \n",
    "print(states)\n",
    "print(actions)"
   ]
  },
  {
   "cell_type": "code",
   "execution_count": 63,
   "metadata": {},
   "outputs": [
    {
     "name": "stdout",
     "output_type": "stream",
     "text": [
      "-1\n"
     ]
    }
   ],
   "source": [
    "REWARD = tf.constant(10)\n",
    "PENALTY = tf.constant(-1)\n",
    "def get_reward(state, action, next_state):\n",
    "    at_target = lambda next_state: tf.equal(next_state, TARGET_POSITION)\n",
    "    return tf.cond(tf.equal(next_state, TARGET_POSITION), lambda: REWARD, lambda: PENALTY)\n",
    "\n",
    "reward = get_reward(t_states[0], t_actions[0], t_states[1])\n",
    "\n",
    "with tf.Session() as sess:\n",
    "    sess.run(tf.global_variables_initializer())\n",
    "    result = sess.run(reward)\n",
    "    \n",
    "print(result)"
   ]
  },
  {
   "cell_type": "code",
   "execution_count": 76,
   "metadata": {},
   "outputs": [
    {
     "name": "stdout",
     "output_type": "stream",
     "text": [
      "[2 1 0 1 2 1 2]\n",
      "[1 0 1 2 1 2 3]\n"
     ]
    }
   ],
   "source": [
    "rng = tf.range(states.shape[0])\n",
    "t_current_states = t_states[:-1]\n",
    "t_next_states = t_states[1:]\n",
    "\n",
    "with tf.Session() as sess:\n",
    "    sess.run(tf.global_variables_initializer())\n",
    "    current_states, next_states = sess.run([t_current_states, t_next_states])\n",
    "    \n",
    "print(current_states)\n",
    "print(next_states)"
   ]
  }
 ],
 "metadata": {
  "kernelspec": {
   "display_name": "Python [default]",
   "language": "python",
   "name": "python3"
  },
  "language_info": {
   "codemirror_mode": {
    "name": "ipython",
    "version": 3
   },
   "file_extension": ".py",
   "mimetype": "text/x-python",
   "name": "python",
   "nbconvert_exporter": "python",
   "pygments_lexer": "ipython3",
   "version": "3.6.2"
  }
 },
 "nbformat": 4,
 "nbformat_minor": 2
}
