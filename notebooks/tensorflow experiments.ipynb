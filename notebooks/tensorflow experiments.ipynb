{
 "cells": [
  {
   "cell_type": "code",
   "execution_count": 1,
   "metadata": {
    "collapsed": true
   },
   "outputs": [],
   "source": [
    "from rl.lib.timer import Timer\n",
    "\n",
    "import numpy as np\n",
    "import tensorflow as tf\n",
    "sess = tf.InteractiveSession()\n",
    "\n",
    "NUM_THREADS = 5\n",
    "sess2 = tf.Session(config=tf.ConfigProto(\n",
    "    intra_op_parallelism_threads=NUM_THREADS))\n",
    "\n",
    "sess.run(tf.global_variables_initializer())"
   ]
  },
  {
   "cell_type": "code",
   "execution_count": 2,
   "metadata": {
    "collapsed": true
   },
   "outputs": [],
   "source": [
    "VECTOR_SIZE = 3\n",
    "MOVE_LEFT = 0\n",
    "MOVE_RIGHT = 1"
   ]
  },
  {
   "cell_type": "markdown",
   "metadata": {},
   "source": [
    "Demonstrate\n",
    "\n",
    "- Creating a vector of zeros\n",
    "- Updating one of those zeros to one.\n",
    "\n",
    "This is useful for creating one-hot vector representations."
   ]
  },
  {
   "cell_type": "code",
   "execution_count": 3,
   "metadata": {
    "scrolled": false
   },
   "outputs": [
    {
     "name": "stdout",
     "output_type": "stream",
     "text": [
      "0\n",
      "[ 1.  0.  0.]\n",
      "1\n",
      "[ 0.  1.  0.]\n"
     ]
    }
   ],
   "source": [
    "def get_position_vector(position):\n",
    "    x = tf.Variable([0.] * VECTOR_SIZE, dtype=tf.float32)\n",
    "    b = tf.scatter_update(x, [position], [1])\n",
    "    return b\n",
    "\n",
    "position = tf.Variable(0, dtype=tf.int32)\n",
    "position_grid = get_position_vector(position)\n",
    "\n",
    "position2 = position + 1\n",
    "position_grid2 = get_position_vector(position2)\n",
    "\n",
    "sess.run(tf.global_variables_initializer())  \n",
    "\n",
    "print(position.eval())\n",
    "print(position_grid.eval())\n",
    "print(position2.eval())\n",
    "print(position_grid2.eval())"
   ]
  },
  {
   "cell_type": "markdown",
   "metadata": {},
   "source": [
    "Moving the position left or right, and converting to one-hot representation."
   ]
  },
  {
   "cell_type": "code",
   "execution_count": 4,
   "metadata": {},
   "outputs": [
    {
     "name": "stdout",
     "output_type": "stream",
     "text": [
      "2\n",
      "[ 0.  0.  1.]\n",
      "1\n",
      "[ 0.  1.  0.]\n"
     ]
    }
   ],
   "source": [
    "def move_left(position):\n",
    "    return tf.maximum(position-1, tf.Variable(0, dtype=tf.int32))\n",
    "\n",
    "def move_right(position):\n",
    "    return tf.minimum(position+1, tf.Variable(VECTOR_SIZE-1, dtype=tf.int32))\n",
    "\n",
    "position3 = move_right(position2)\n",
    "position4 = move_left(position3)\n",
    "\n",
    "position_vector3 = get_position_vector(position3)\n",
    "position_vector4 = get_position_vector(position4)\n",
    "\n",
    "sess.run(tf.global_variables_initializer()) \n",
    "\n",
    "print(position3.eval())\n",
    "print(position_vector3.eval())\n",
    "\n",
    "print(position4.eval())\n",
    "print(position_vector4.eval())"
   ]
  },
  {
   "cell_type": "markdown",
   "metadata": {},
   "source": [
    "The apply_action can move the position left or right, depending on what action it is given."
   ]
  },
  {
   "cell_type": "code",
   "execution_count": 5,
   "metadata": {},
   "outputs": [
    {
     "name": "stdout",
     "output_type": "stream",
     "text": [
      "0\n",
      "1\n"
     ]
    }
   ],
   "source": [
    "def apply_action(position, action):\n",
    "    cond = tf.equal(action, MOVE_LEFT)\n",
    "    return tf.cond(cond, lambda: move_left(position), lambda: move_right(position))\n",
    "\n",
    "position5 = apply_action(position4, MOVE_LEFT)\n",
    "position6 = apply_action(position5, MOVE_RIGHT)\n",
    "\n",
    "sess.run(tf.global_variables_initializer())\n",
    "\n",
    "print(position5.eval())\n",
    "print(position6.eval())"
   ]
  },
  {
   "cell_type": "markdown",
   "metadata": {},
   "source": [
    "We don't have anything to intelligently move the agent yet. So let's just create a function to move it randomly."
   ]
  },
  {
   "cell_type": "code",
   "execution_count": 6,
   "metadata": {
    "collapsed": true
   },
   "outputs": [],
   "source": [
    "def choose_random_action():\n",
    "    cond = tf.less(0.5, tf.random_uniform([1, ]))\n",
    "    return tf.cond(cond[0], lambda: MOVE_LEFT, lambda: MOVE_RIGHT)\n",
    "\n",
    "action = choose_random_action()\n",
    "\n",
    "sess.run(tf.global_variables_initializer())"
   ]
  },
  {
   "cell_type": "code",
   "execution_count": 7,
   "metadata": {},
   "outputs": [
    {
     "name": "stdout",
     "output_type": "stream",
     "text": [
      "0\n",
      "2\n",
      "2\n"
     ]
    }
   ],
   "source": [
    "position7 = apply_action(position6, choose_random_action())\n",
    "position8 = apply_action(position7, choose_random_action())\n",
    "position9 = apply_action(position8, choose_random_action())\n",
    "\n",
    "sess.run(tf.global_variables_initializer())\n",
    "\n",
    "print(position7.eval())\n",
    "print(position8.eval())\n",
    "print(position9.eval())"
   ]
  },
  {
   "cell_type": "markdown",
   "metadata": {},
   "source": [
    "Use tf.while_loop to move the agent at random, until it's position reaches VECTOR_SIZE-1"
   ]
  },
  {
   "cell_type": "code",
   "execution_count": 15,
   "metadata": {
    "scrolled": false
   },
   "outputs": [
    {
     "name": "stdout",
     "output_type": "stream",
     "text": [
      "2\n"
     ]
    }
   ],
   "source": [
    "position = tf.Variable(0, tf.int32)\n",
    "\n",
    "cond = lambda position: tf.less(position, VECTOR_SIZE-1)\n",
    "op = lambda position: apply_action(position, choose_random_action())\n",
    "\n",
    "r=tf.while_loop(cond, op, [position])\n",
    "\n",
    "sess.run(tf.global_variables_initializer())\n",
    "print(r.eval())"
   ]
  },
  {
   "cell_type": "markdown",
   "metadata": {},
   "source": [
    "Expand the prior example so that:\n",
    "\n",
    " - We record all positions inside a TensorArray.\n",
    " - We return the position using TensorArray.gather."
   ]
  },
  {
   "cell_type": "code",
   "execution_count": 23,
   "metadata": {
    "collapsed": true
   },
   "outputs": [],
   "source": [
    "MAX_EPISODE_LENGTH = 10\n",
    "\n",
    "position = tf.Variable(0, tf.int32)\n",
    "count = tf.Variable(0, tf.int32)\n",
    "positions = tf.TensorArray(tf.int32, size=MAX_EPISODE_LENGTH)\n",
    "\n",
    "# The loop can terminate if either:\n",
    "# - the position reaches VECTOR_SIZE-1, which is the rightmost position in the one-hot vector representation\n",
    "# - we reach MAX_EPISODE_LENGTH iterations\n",
    "cond_not_terminal = lambda c, p, ps: tf.less(p, VECTOR_SIZE-1)\n",
    "cond_not_max_length = lambda c, p, ps: tf.less(c, MAX_EPISODE_LENGTH)\n",
    "cond = lambda c, p, ps: cond_not_terminal(c, p, ps) & cond_not_max_length(c, p, ps)\n",
    "\n",
    "def body(c, p, positions):\n",
    "    next_c = c+1\n",
    "    next_p = apply_action(p, choose_random_action())\n",
    "    positions = positions.write(c, next_p)\n",
    "    return next_c, next_p, positions\n",
    "\n",
    "count, position, positions = tf.while_loop(cond, body, (position, count, positions))\n",
    "rng = tf.range(count)\n",
    "gathered_positions = positions.gather(rng)\n",
    "sess.run(tf.global_variables_initializer())"
   ]
  },
  {
   "cell_type": "code",
   "execution_count": 46,
   "metadata": {},
   "outputs": [
    {
     "name": "stdout",
     "output_type": "stream",
     "text": [
      "2\n",
      "[1 2]\n"
     ]
    }
   ],
   "source": [
    "\n",
    "cnt, p, ps = sess.run([count, position, gathered_positions])\n",
    "print(cnt)\n",
    "print(ps)"
   ]
  },
  {
   "cell_type": "code",
   "execution_count": 11,
   "metadata": {
    "collapsed": true
   },
   "outputs": [],
   "source": [
    "def get_walk():\n",
    "    position = tf.Variable(0, tf.int32)\n",
    "    count = tf.Variable(0, tf.int32)\n",
    "    positions = tf.TensorArray(tf.int32, size=MAX_EPISODE_LENGTH)\n",
    "\n",
    "    # The loop can terminate if either:\n",
    "    # - the position reaches VECTOR_SIZE-1, which is the rightmost position in the one-hot vector representation\n",
    "    # - we reach MAX_EPISODE_LENGTH iterations\n",
    "    cond_not_terminal = lambda c, p, ps: tf.less(p, VECTOR_SIZE-1)\n",
    "    cond_not_max_length = lambda c, p, ps: tf.less(c, MAX_EPISODE_LENGTH)\n",
    "    cond = lambda c, p, ps: cond_not_terminal(c, p, ps) & cond_not_max_length(c, p, ps)\n",
    "\n",
    "    def body(c, p, positions):\n",
    "        next_c = c+1\n",
    "        next_p = apply_action(p, choose_random_action())\n",
    "        positions = positions.write(c, next_p)\n",
    "        return next_c, next_p, positions\n",
    "\n",
    "    count, position, positions = tf.while_loop(cond, body, (position, count, positions))\n",
    "    \n",
    "    rng = tf.range(count)\n",
    "    tensor_positions = positions.gather(rng)\n",
    "    \n",
    "    return tensor_positions"
   ]
  },
  {
   "cell_type": "code",
   "execution_count": 12,
   "metadata": {},
   "outputs": [
    {
     "name": "stdout",
     "output_type": "stream",
     "text": [
      "[1 2]\n",
      "[1 2]\n"
     ]
    }
   ],
   "source": [
    "walk1 = get_walk()\n",
    "walk2 = get_walk()\n",
    "\n",
    "sess.run(tf.global_variables_initializer())\n",
    "\n",
    "w1, w2 = sess.run([walk1, walk2])\n",
    "\n",
    "print(w1)\n",
    "print(w2)"
   ]
  },
  {
   "cell_type": "code",
   "execution_count": 13,
   "metadata": {},
   "outputs": [
    {
     "name": "stdout",
     "output_type": "stream",
     "text": [
      "Making walks Took 57.67s seconds\n",
      "Initialising global variables Took 5.07s seconds\n",
      "Evaluating walks Took 5.49s seconds\n",
      "[array([0, 0, 1, 0, 1, 2], dtype=int32), array([1, 2], dtype=int32), array([0, 0, 1, 2], dtype=int32), array([0, 0, 0, 0, 0, 0, 1, 0, 1, 2], dtype=int32), array([1, 2], dtype=int32), array([1, 2], dtype=int32), array([0, 0, 0, 1, 2], dtype=int32), array([0, 0, 1, 0, 0, 1, 2], dtype=int32), array([1, 0, 0, 1, 2], dtype=int32), array([1, 0, 1, 2], dtype=int32), array([1, 2], dtype=int32), array([1, 2], dtype=int32), array([0, 0, 1, 0, 1, 0, 1, 2], dtype=int32), array([0, 0, 1, 0, 0, 1, 0, 1, 0, 0], dtype=int32), array([0, 1, 0, 1, 0, 1, 2], dtype=int32), array([0, 0, 1, 2], dtype=int32), array([1, 0, 1, 2], dtype=int32), array([0, 1, 0, 0, 0, 0, 0, 1, 2], dtype=int32), array([1, 0, 0, 0, 0, 0, 1, 2], dtype=int32), array([0, 1, 2], dtype=int32), array([0, 1, 2], dtype=int32), array([0, 1, 2], dtype=int32), array([1, 2], dtype=int32), array([1, 2], dtype=int32), array([0, 0, 0, 1, 2], dtype=int32), array([0, 0, 1, 0, 1, 0, 0, 1, 2], dtype=int32), array([0, 1, 2], dtype=int32), array([1, 0, 0, 0, 0, 1, 2], dtype=int32), array([0, 0, 1, 0, 1, 2], dtype=int32), array([1, 0, 0, 1, 0, 1, 0, 1, 0, 0], dtype=int32), array([0, 1, 2], dtype=int32), array([1, 0, 1, 0, 0, 0, 1, 2], dtype=int32), array([1, 2], dtype=int32), array([0, 1, 0, 1, 2], dtype=int32), array([0, 0, 0, 0, 1, 0, 0, 1, 2], dtype=int32), array([1, 0, 0, 1, 2], dtype=int32), array([1, 2], dtype=int32), array([1, 2], dtype=int32), array([0, 1, 0, 0, 0, 0, 0, 1, 0, 0], dtype=int32), array([0, 1, 2], dtype=int32), array([0, 1, 0, 1, 0, 0, 1, 0, 0, 1], dtype=int32), array([0, 0, 1, 0, 0, 0, 1, 0, 1, 2], dtype=int32), array([1, 2], dtype=int32), array([1, 2], dtype=int32), array([1, 2], dtype=int32), array([0, 1, 0, 1, 2], dtype=int32), array([0, 0, 1, 0, 0, 0, 1, 2], dtype=int32), array([0, 1, 0, 1, 2], dtype=int32), array([0, 0, 1, 0, 1, 2], dtype=int32), array([0, 1, 2], dtype=int32), array([0, 1, 2], dtype=int32), array([0, 0, 0, 0, 0, 0, 1, 2], dtype=int32), array([1, 0, 1, 0, 1, 0, 0, 0, 0, 1], dtype=int32), array([0, 0, 0, 1, 0, 0, 1, 2], dtype=int32), array([0, 1, 0, 1, 0, 0, 1, 2], dtype=int32), array([0, 0, 1, 0, 0, 0, 1, 2], dtype=int32), array([1, 0, 1, 2], dtype=int32), array([1, 0, 1, 2], dtype=int32), array([0, 0, 1, 2], dtype=int32), array([0, 0, 1, 0, 0, 0, 1, 0, 1, 2], dtype=int32), array([0, 0, 0, 0, 0, 1, 2], dtype=int32), array([0, 0, 1, 0, 1, 2], dtype=int32), array([1, 2], dtype=int32), array([0, 1, 2], dtype=int32), array([0, 1, 0, 1, 2], dtype=int32), array([0, 1, 2], dtype=int32), array([0, 1, 0, 1, 2], dtype=int32), array([0, 1, 2], dtype=int32), array([0, 0, 1, 2], dtype=int32), array([1, 2], dtype=int32), array([0, 0, 1, 0, 1, 2], dtype=int32), array([1, 0, 1, 0, 1, 0, 1, 0, 0, 1], dtype=int32), array([1, 2], dtype=int32), array([0, 1, 0, 1, 0, 0, 0, 0, 1, 0], dtype=int32), array([0, 1, 0, 1, 2], dtype=int32), array([1, 0, 1, 2], dtype=int32), array([0, 0, 0, 1, 2], dtype=int32), array([0, 0, 1, 0, 0, 0, 1, 2], dtype=int32), array([0, 1, 2], dtype=int32), array([0, 0, 0, 1, 2], dtype=int32), array([0, 0, 0, 0, 1, 0, 0, 0, 1, 0], dtype=int32), array([1, 0, 1, 0, 0, 0, 0, 1, 0, 0], dtype=int32), array([1, 0, 0, 0, 1, 0, 1, 0, 1, 2], dtype=int32), array([1, 2], dtype=int32), array([1, 0, 1, 0, 1, 2], dtype=int32), array([1, 0, 0, 0, 1, 2], dtype=int32), array([1, 0, 0, 0, 1, 2], dtype=int32), array([0, 0, 0, 1, 2], dtype=int32), array([0, 0, 1, 2], dtype=int32), array([0, 0, 1, 0, 1, 2], dtype=int32), array([1, 0, 1, 2], dtype=int32), array([0, 1, 0, 1, 0, 1, 0, 0, 0, 0], dtype=int32), array([0, 1, 2], dtype=int32), array([1, 0, 1, 0, 1, 0, 0, 1, 2], dtype=int32), array([1, 2], dtype=int32), array([0, 0, 1, 2], dtype=int32), array([0, 0, 1, 2], dtype=int32), array([1, 2], dtype=int32), array([0, 0, 0, 0, 1, 2], dtype=int32), array([1, 0, 1, 2], dtype=int32), array([1, 2], dtype=int32), array([0, 1, 2], dtype=int32), array([0, 0, 1, 2], dtype=int32), array([1, 0, 0, 0, 1, 2], dtype=int32), array([0, 0, 0, 1, 0, 0, 1, 2], dtype=int32), array([1, 0, 1, 0, 0, 0, 0, 1, 2], dtype=int32), array([0, 1, 0, 1, 0, 0, 0, 0, 1, 0], dtype=int32), array([1, 0, 1, 0, 0, 1, 2], dtype=int32), array([1, 2], dtype=int32), array([0, 0, 1, 2], dtype=int32), array([0, 1, 0, 1, 2], dtype=int32), array([0, 0, 0, 1, 0, 1, 0, 0, 1, 2], dtype=int32), array([0, 1, 0, 0, 0, 1, 2], dtype=int32), array([1, 2], dtype=int32), array([0, 0, 1, 0, 1, 0, 0, 0, 1, 0], dtype=int32), array([0, 1, 0, 1, 0, 1, 2], dtype=int32), array([0, 1, 0, 1, 2], dtype=int32), array([0, 1, 2], dtype=int32), array([0, 0, 1, 2], dtype=int32), array([1, 0, 1, 0, 1, 2], dtype=int32), array([1, 0, 1, 2], dtype=int32), array([1, 2], dtype=int32), array([0, 0, 0, 0, 1, 0, 1, 2], dtype=int32), array([0, 1, 0, 0, 1, 2], dtype=int32), array([1, 2], dtype=int32), array([0, 0, 1, 0, 0, 1, 2], dtype=int32), array([1, 0, 1, 2], dtype=int32), array([1, 2], dtype=int32), array([0, 1, 0, 0, 0, 1, 0, 1, 2], dtype=int32), array([1, 0, 1, 2], dtype=int32), array([0, 1, 2], dtype=int32), array([1, 0, 1, 0, 0, 0, 1, 2], dtype=int32), array([0, 1, 2], dtype=int32), array([0, 0, 0, 0, 0, 1, 0, 0, 1, 2], dtype=int32), array([1, 2], dtype=int32), array([0, 1, 0, 1, 0, 1, 0, 0, 1, 2], dtype=int32), array([0, 0, 1, 2], dtype=int32), array([0, 1, 0, 0, 0, 1, 0, 1, 2], dtype=int32), array([0, 1, 2], dtype=int32), array([1, 2], dtype=int32), array([0, 0, 1, 2], dtype=int32), array([1, 2], dtype=int32), array([0, 0, 0, 0, 0, 1, 0, 0, 0, 0], dtype=int32), array([0, 0, 1, 2], dtype=int32), array([1, 2], dtype=int32), array([0, 1, 0, 0, 1, 2], dtype=int32), array([0, 1, 0, 1, 0, 0, 1, 0, 0, 0], dtype=int32), array([1, 0, 0, 0, 1, 0, 0, 1, 0, 1], dtype=int32), array([1, 2], dtype=int32), array([0, 0, 0, 0, 0, 0, 1, 0, 1, 2], dtype=int32), array([0, 1, 2], dtype=int32), array([0, 1, 0, 1, 0, 0, 0, 0, 0, 0], dtype=int32), array([1, 2], dtype=int32), array([0, 0, 0, 1, 2], dtype=int32), array([0, 0, 1, 0, 0, 0, 0, 1, 0, 0], dtype=int32), array([0, 1, 0, 1, 2], dtype=int32), array([1, 0, 0, 0, 0, 1, 2], dtype=int32), array([0, 1, 2], dtype=int32), array([0, 0, 1, 2], dtype=int32), array([1, 2], dtype=int32), array([0, 0, 0, 0, 0, 0, 0, 1, 0, 1], dtype=int32), array([1, 0, 0, 0, 0, 1, 0, 0, 0, 0], dtype=int32), array([1, 0, 1, 2], dtype=int32), array([0, 1, 2], dtype=int32), array([0, 1, 0, 1, 0, 1, 2], dtype=int32), array([1, 0, 0, 1, 0, 0, 0, 1, 0, 0], dtype=int32), array([0, 0, 0, 0, 0, 0, 1, 2], dtype=int32), array([1, 2], dtype=int32), array([1, 0, 0, 1, 0, 1, 0, 1, 2], dtype=int32), array([0, 1, 2], dtype=int32), array([0, 0, 0, 0, 1, 2], dtype=int32), array([1, 0, 1, 0, 0, 0, 0, 1, 2], dtype=int32), array([1, 2], dtype=int32), array([1, 2], dtype=int32), array([0, 0, 1, 0, 0, 1, 2], dtype=int32), array([0, 1, 0, 1, 0, 0, 0, 1, 2], dtype=int32), array([0, 1, 2], dtype=int32), array([1, 0, 1, 2], dtype=int32), array([0, 1, 2], dtype=int32), array([0, 1, 0, 1, 2], dtype=int32), array([0, 1, 2], dtype=int32), array([1, 0, 0, 0, 1, 0, 1, 0, 1, 0], dtype=int32), array([0, 1, 0, 0, 1, 0, 1, 2], dtype=int32), array([1, 0, 0, 0, 0, 0, 1, 2], dtype=int32), array([1, 0, 0, 0, 1, 2], dtype=int32), array([0, 0, 0, 0, 1, 0, 0, 1, 0, 0], dtype=int32), array([1, 0, 1, 0, 0, 1, 0, 1, 2], dtype=int32), array([1, 0, 0, 1, 0, 0, 0, 1, 2], dtype=int32), array([1, 0, 1, 0, 0, 1, 0, 0, 1, 0], dtype=int32), array([0, 0, 1, 2], dtype=int32), array([0, 0, 0, 1, 0, 0, 1, 0, 0, 0], dtype=int32), array([0, 1, 2], dtype=int32), array([1, 0, 0, 1, 2], dtype=int32), array([0, 1, 0, 1, 0, 0, 1, 0, 0, 0], dtype=int32), array([1, 0, 0, 1, 2], dtype=int32), array([1, 0, 1, 0, 1, 2], dtype=int32), array([0, 1, 0, 1, 0, 0, 0, 0, 0, 1], dtype=int32), array([1, 0, 0, 1, 2], dtype=int32), array([0, 1, 2], dtype=int32), array([1, 0, 1, 0, 1, 2], dtype=int32), array([0, 0, 0, 0, 1, 2], dtype=int32), array([0, 1, 2], dtype=int32), array([0, 0, 0, 1, 0, 1, 2], dtype=int32), array([1, 2], dtype=int32), array([1, 0, 1, 2], dtype=int32), array([1, 2], dtype=int32), array([0, 1, 0, 0, 1, 2], dtype=int32), array([1, 0, 0, 1, 0, 1, 0, 1, 0, 0], dtype=int32), array([0, 1, 2], dtype=int32), array([1, 2], dtype=int32), array([0, 1, 2], dtype=int32), array([1, 2], dtype=int32), array([0, 1, 2], dtype=int32), array([0, 1, 2], dtype=int32), array([0, 0, 1, 2], dtype=int32), array([1, 2], dtype=int32), array([1, 0, 1, 0, 0, 1, 2], dtype=int32), array([0, 0, 0, 0, 1, 2], dtype=int32), array([0, 1, 2], dtype=int32), array([0, 1, 0, 1, 0, 0, 0, 1, 0, 1], dtype=int32), array([0, 1, 0, 0, 0, 0, 0, 1, 0, 0], dtype=int32), array([0, 1, 0, 1, 2], dtype=int32), array([1, 2], dtype=int32), array([0, 0, 1, 2], dtype=int32), array([1, 0, 0, 1, 2], dtype=int32), array([1, 2], dtype=int32), array([0, 1, 2], dtype=int32), array([0, 0, 1, 0, 0, 0, 0, 1, 2], dtype=int32), array([0, 1, 2], dtype=int32), array([0, 0, 0, 1, 2], dtype=int32), array([1, 0, 1, 2], dtype=int32), array([0, 0, 1, 2], dtype=int32), array([0, 0, 1, 0, 0, 1, 0, 1, 0, 1], dtype=int32), array([1, 2], dtype=int32), array([1, 0, 1, 2], dtype=int32), array([1, 0, 1, 2], dtype=int32), array([0, 0, 1, 0, 1, 0, 1, 0, 0, 1], dtype=int32), array([1, 2], dtype=int32), array([1, 0, 1, 2], dtype=int32), array([1, 0, 1, 0, 0, 1, 2], dtype=int32), array([0, 1, 0, 0, 0, 0, 1, 2], dtype=int32), array([1, 2], dtype=int32), array([1, 0, 1, 0, 0, 0, 0, 1, 0, 0], dtype=int32), array([1, 0, 0, 0, 1, 2], dtype=int32), array([1, 2], dtype=int32), array([1, 2], dtype=int32), array([0, 1, 2], dtype=int32), array([0, 0, 0, 1, 0, 1, 2], dtype=int32), array([0, 0, 0, 0, 0, 1, 0, 0, 0, 1], dtype=int32), array([0, 1, 2], dtype=int32), array([1, 2], dtype=int32), array([1, 0, 0, 1, 0, 0, 0, 0, 0, 1], dtype=int32), array([0, 0, 0, 1, 2], dtype=int32), array([0, 1, 2], dtype=int32), array([0, 1, 2], dtype=int32), array([1, 0, 1, 0, 1, 0, 1, 0, 0, 1], dtype=int32), array([1, 2], dtype=int32), array([0, 0, 1, 2], dtype=int32), array([0, 1, 0, 1, 0, 0, 1, 2], dtype=int32), array([0, 1, 0, 1, 2], dtype=int32), array([0, 1, 0, 1, 2], dtype=int32), array([1, 2], dtype=int32), array([1, 2], dtype=int32), array([0, 0, 1, 0, 1, 2], dtype=int32), array([1, 2], dtype=int32), array([0, 0, 0, 1, 0, 1, 2], dtype=int32), array([1, 0, 1, 2], dtype=int32), array([0, 0, 1, 2], dtype=int32), array([0, 0, 1, 0, 0, 0, 0, 1, 2], dtype=int32), array([0, 0, 1, 0, 0, 0, 1, 2], dtype=int32), array([1, 2], dtype=int32), array([0, 0, 1, 0, 1, 0, 1, 0, 1, 0], dtype=int32), array([0, 0, 1, 0, 1, 2], dtype=int32), array([0, 1, 0, 1, 0, 1, 2], dtype=int32), array([0, 1, 0, 1, 2], dtype=int32), array([0, 0, 1, 0, 1, 0, 1, 2], dtype=int32), array([1, 0, 0, 0, 1, 2], dtype=int32), array([1, 0, 1, 0, 1, 0, 0, 1, 2], dtype=int32), array([1, 2], dtype=int32), array([0, 1, 0, 1, 2], dtype=int32), array([1, 0, 0, 0, 1, 0, 1, 0, 1, 2], dtype=int32), array([0, 0, 0, 1, 0, 0, 1, 2], dtype=int32), array([1, 0, 1, 0, 1, 2], dtype=int32), array([0, 1, 0, 1, 0, 0, 0, 1, 0, 0], dtype=int32), array([1, 2], dtype=int32), array([1, 0, 1, 0, 0, 0, 1, 2], dtype=int32), array([1, 0, 1, 0, 0, 0, 0, 1, 2], dtype=int32), array([1, 2], dtype=int32), array([1, 2], dtype=int32), array([1, 0, 1, 0, 0, 1, 0, 1, 2], dtype=int32), array([1, 2], dtype=int32), array([1, 2], dtype=int32), array([1, 2], dtype=int32), array([1, 2], dtype=int32), array([0, 1, 2], dtype=int32), array([0, 1, 2], dtype=int32), array([0, 0, 0, 0, 1, 0, 1, 0, 0, 1], dtype=int32), array([0, 1, 0, 1, 0, 0, 1, 0, 1, 0], dtype=int32), array([0, 0, 1, 0, 1, 2], dtype=int32), array([1, 2], dtype=int32), array([1, 0, 1, 2], dtype=int32), array([0, 0, 1, 2], dtype=int32), array([0, 0, 0, 0, 0, 0, 1, 0, 1, 2], dtype=int32), array([0, 0, 0, 0, 0, 1, 0, 0, 1, 0], dtype=int32), array([0, 1, 2], dtype=int32), array([1, 2], dtype=int32), array([1, 2], dtype=int32), array([1, 0, 1, 2], dtype=int32), array([1, 2], dtype=int32), array([0, 1, 0, 1, 2], dtype=int32), array([0, 0, 1, 2], dtype=int32), array([0, 0, 0, 1, 2], dtype=int32), array([0, 0, 0, 1, 2], dtype=int32), array([1, 2], dtype=int32), array([1, 0, 1, 2], dtype=int32), array([0, 0, 1, 2], dtype=int32), array([0, 1, 2], dtype=int32), array([1, 2], dtype=int32), array([0, 0, 1, 0, 1, 2], dtype=int32), array([0, 0, 0, 1, 0, 0, 0, 0, 1, 2], dtype=int32), array([0, 1, 2], dtype=int32), array([1, 2], dtype=int32), array([1, 2], dtype=int32), array([1, 0, 0, 1, 2], dtype=int32), array([0, 0, 1, 0, 1, 0, 0, 0, 1, 2], dtype=int32), array([1, 0, 1, 0, 0, 0, 0, 0, 1, 2], dtype=int32), array([0, 1, 2], dtype=int32), array([0, 1, 0, 1, 2], dtype=int32), array([0, 1, 2], dtype=int32), array([1, 0, 0, 1, 0, 1, 0, 1, 2], dtype=int32), array([0, 1, 2], dtype=int32), array([0, 0, 0, 1, 0, 1, 0, 1, 0, 1], dtype=int32), array([1, 0, 1, 2], dtype=int32), array([0, 0, 0, 1, 2], dtype=int32), array([0, 0, 0, 0, 0, 1, 0, 0, 0, 0], dtype=int32), array([1, 2], dtype=int32), array([0, 0, 1, 2], dtype=int32), array([1, 0, 0, 0, 0, 1, 0, 0, 1, 2], dtype=int32), array([1, 0, 1, 2], dtype=int32), array([0, 0, 0, 1, 0, 0, 0, 1, 2], dtype=int32), array([1, 2], dtype=int32), array([0, 1, 0, 0, 0, 1, 2], dtype=int32), array([1, 0, 0, 1, 2], dtype=int32), array([1, 0, 0, 0, 0, 0, 0, 1, 2], dtype=int32), array([0, 1, 0, 1, 2], dtype=int32), array([0, 0, 0, 1, 2], dtype=int32), array([1, 0, 1, 2], dtype=int32), array([1, 0, 0, 0, 1, 0, 1, 2], dtype=int32), array([0, 0, 1, 2], dtype=int32), array([0, 0, 1, 2], dtype=int32), array([1, 2], dtype=int32), array([0, 0, 1, 0, 0, 0, 0, 0, 1, 0], dtype=int32), array([1, 2], dtype=int32), array([1, 2], dtype=int32), array([0, 1, 2], dtype=int32), array([1, 0, 0, 0, 0, 1, 2], dtype=int32), array([0, 0, 0, 0, 0, 0, 1, 2], dtype=int32), array([1, 0, 0, 1, 2], dtype=int32), array([1, 2], dtype=int32), array([0, 1, 0, 1, 2], dtype=int32), array([1, 0, 0, 1, 0, 1, 0, 0, 0, 0], dtype=int32), array([1, 2], dtype=int32), array([0, 0, 0, 1, 0, 0, 1, 2], dtype=int32), array([1, 0, 1, 2], dtype=int32), array([1, 0, 1, 2], dtype=int32), array([1, 2], dtype=int32), array([1, 2], dtype=int32), array([1, 2], dtype=int32), array([1, 0, 1, 0, 1, 2], dtype=int32), array([1, 2], dtype=int32), array([1, 2], dtype=int32), array([0, 1, 0, 1, 0, 0, 1, 2], dtype=int32), array([0, 0, 1, 0, 0, 1, 2], dtype=int32), array([1, 2], dtype=int32), array([0, 1, 0, 0, 0, 0, 0, 1, 0, 1], dtype=int32), array([0, 0, 0, 0, 0, 0, 0, 0, 1, 0], dtype=int32), array([0, 0, 1, 0, 1, 0, 0, 0, 1, 2], dtype=int32), array([1, 2], dtype=int32), array([1, 0, 0, 0, 1, 0, 0, 0, 1, 0], dtype=int32), array([1, 0, 1, 0, 0, 1, 0, 1, 2], dtype=int32), array([0, 0, 0, 1, 2], dtype=int32), array([1, 2], dtype=int32), array([0, 1, 2], dtype=int32), array([1, 0, 0, 1, 0, 1, 0, 0, 1, 2], dtype=int32), array([0, 0, 1, 2], dtype=int32), array([0, 0, 1, 0, 0, 0, 1, 2], dtype=int32), array([1, 0, 0, 1, 0, 0, 0, 1, 0, 0], dtype=int32), array([0, 0, 1, 0, 0, 1, 2], dtype=int32), array([0, 0, 0, 1, 2], dtype=int32), array([1, 2], dtype=int32), array([0, 0, 1, 2], dtype=int32), array([1, 0, 0, 1, 0, 1, 0, 1, 2], dtype=int32), array([0, 1, 2], dtype=int32), array([0, 1, 0, 0, 1, 2], dtype=int32), array([1, 2], dtype=int32), array([1, 2], dtype=int32), array([0, 0, 1, 0, 1, 0, 1, 2], dtype=int32), array([1, 0, 1, 0, 0, 0, 1, 2], dtype=int32), array([1, 0, 1, 2], dtype=int32), array([0, 1, 2], dtype=int32), array([1, 0, 1, 2], dtype=int32), array([1, 2], dtype=int32), array([0, 0, 0, 1, 2], dtype=int32), array([1, 0, 1, 0, 0, 0, 0, 1, 0, 0], dtype=int32), array([1, 0, 1, 2], dtype=int32), array([1, 0, 1, 0, 0, 1, 0, 1, 0, 1], dtype=int32), array([0, 1, 2], dtype=int32), array([0, 1, 0, 1, 0, 0, 1, 2], dtype=int32), array([0, 1, 2], dtype=int32), array([1, 2], dtype=int32), array([1, 0, 1, 0, 1, 2], dtype=int32), array([1, 2], dtype=int32), array([0, 1, 0, 0, 1, 0, 1, 2], dtype=int32), array([1, 0, 0, 0, 1, 2], dtype=int32), array([1, 2], dtype=int32), array([0, 1, 0, 0, 0, 0, 0, 1, 2], dtype=int32), array([1, 2], dtype=int32), array([0, 0, 1, 0, 0, 0, 1, 0, 1, 2], dtype=int32), array([0, 1, 0, 1, 0, 0, 1, 0, 1, 2], dtype=int32), array([0, 0, 1, 2], dtype=int32), array([1, 2], dtype=int32), array([1, 0, 0, 0, 1, 2], dtype=int32), array([0, 1, 2], dtype=int32), array([1, 2], dtype=int32), array([1, 2], dtype=int32), array([0, 1, 2], dtype=int32), array([0, 0, 1, 2], dtype=int32), array([1, 0, 0, 1, 0, 0, 1, 2], dtype=int32), array([1, 2], dtype=int32), array([1, 0, 0, 1, 2], dtype=int32), array([1, 0, 1, 0, 1, 0, 1, 0, 0, 1], dtype=int32), array([1, 0, 0, 1, 2], dtype=int32), array([1, 0, 1, 2], dtype=int32), array([1, 2], dtype=int32), array([0, 0, 0, 0, 0, 1, 2], dtype=int32), array([1, 0, 1, 2], dtype=int32), array([1, 2], dtype=int32), array([1, 2], dtype=int32), array([0, 1, 2], dtype=int32), array([1, 0, 1, 2], dtype=int32), array([1, 2], dtype=int32), array([0, 0, 1, 2], dtype=int32), array([0, 1, 2], dtype=int32), array([1, 2], dtype=int32), array([1, 0, 0, 1, 2], dtype=int32), array([1, 2], dtype=int32), array([0, 0, 1, 2], dtype=int32), array([1, 0, 1, 2], dtype=int32), array([0, 0, 0, 1, 0, 0, 0, 1, 2], dtype=int32), array([1, 2], dtype=int32), array([0, 1, 2], dtype=int32), array([1, 2], dtype=int32), array([0, 1, 0, 1, 2], dtype=int32), array([0, 0, 1, 0, 1, 2], dtype=int32), array([1, 2], dtype=int32), array([0, 1, 0, 0, 1, 2], dtype=int32), array([0, 1, 0, 1, 0, 0, 0, 0, 1, 2], dtype=int32), array([0, 1, 2], dtype=int32), array([0, 0, 1, 0, 1, 0, 1, 2], dtype=int32), array([0, 0, 0, 0, 1, 0, 0, 0, 1, 0], dtype=int32), array([1, 0, 0, 0, 1, 2], dtype=int32), array([1, 0, 1, 0, 1, 2], dtype=int32), array([1, 2], dtype=int32), array([1, 0, 0, 0, 0, 1, 2], dtype=int32), array([0, 1, 0, 1, 2], dtype=int32), array([0, 0, 1, 0, 0, 0, 0, 0, 0, 1], dtype=int32), array([1, 0, 0, 1, 2], dtype=int32), array([1, 2], dtype=int32), array([1, 2], dtype=int32), array([1, 0, 0, 0, 0, 1, 2], dtype=int32), array([1, 2], dtype=int32), array([0, 0, 1, 0, 1, 0, 0, 0, 1, 0], dtype=int32), array([1, 2], dtype=int32), array([0, 1, 2], dtype=int32), array([0, 0, 1, 0, 1, 2], dtype=int32), array([1, 0, 0, 1, 0, 0, 1, 2], dtype=int32), array([0, 1, 0, 0, 1, 2], dtype=int32), array([1, 2], dtype=int32), array([1, 0, 0, 1, 0, 0, 0, 0, 0, 1], dtype=int32), array([0, 1, 2], dtype=int32), array([1, 2], dtype=int32), array([0, 0, 1, 2], dtype=int32), array([0, 1, 0, 1, 0, 1, 0, 1, 2], dtype=int32), array([1, 0, 0, 0, 1, 2], dtype=int32), array([1, 0, 0, 1, 2], dtype=int32), array([0, 0, 0, 0, 1, 2], dtype=int32), array([1, 0, 0, 1, 0, 1, 0, 0, 1, 2], dtype=int32), array([1, 0, 0, 0, 1, 0, 0, 1, 0, 0], dtype=int32), array([0, 1, 2], dtype=int32), array([1, 0, 1, 2], dtype=int32), array([0, 0, 1, 0, 0, 1, 0, 1, 0, 0], dtype=int32), array([0, 1, 0, 0, 1, 2], dtype=int32), array([0, 0, 0, 1, 2], dtype=int32), array([1, 2], dtype=int32), array([1, 2], dtype=int32), array([0, 0, 0, 1, 0, 0, 1, 2], dtype=int32), array([0, 1, 0, 1, 2], dtype=int32), array([1, 0, 0, 0, 0, 0, 0, 0, 1, 0], dtype=int32), array([0, 0, 0, 1, 2], dtype=int32), array([1, 2], dtype=int32), array([1, 2], dtype=int32), array([0, 1, 2], dtype=int32), array([0, 1, 2], dtype=int32), array([1, 2], dtype=int32), array([0, 1, 0, 1, 0, 0, 1, 2], dtype=int32), array([0, 0, 0, 1, 0, 0, 0, 0, 1, 0], dtype=int32), array([1, 0, 0, 0, 0, 0, 1, 0, 1, 2], dtype=int32), array([1, 0, 1, 0, 1, 2], dtype=int32), array([0, 1, 2], dtype=int32), array([0, 0, 0, 0, 0, 0, 1, 0, 0, 0], dtype=int32), array([1, 2], dtype=int32), array([0, 0, 1, 2], dtype=int32), array([0, 1, 2], dtype=int32), array([0, 1, 2], dtype=int32), array([0, 1, 0, 1, 2], dtype=int32), array([1, 2], dtype=int32), array([0, 0, 1, 0, 1, 0, 0, 1, 0, 0], dtype=int32), array([1, 0, 0, 0, 1, 2], dtype=int32), array([1, 0, 0, 1, 2], dtype=int32), array([1, 2], dtype=int32), array([0, 1, 0, 0, 0, 0, 1, 2], dtype=int32), array([0, 1, 0, 0, 1, 2], dtype=int32), array([1, 2], dtype=int32), array([1, 2], dtype=int32), array([0, 1, 2], dtype=int32), array([0, 1, 2], dtype=int32), array([1, 2], dtype=int32), array([0, 1, 0, 1, 0, 1, 2], dtype=int32), array([0, 1, 2], dtype=int32), array([0, 1, 2], dtype=int32), array([1, 0, 1, 2], dtype=int32), array([1, 0, 0, 1, 0, 0, 1, 0, 0, 0], dtype=int32), array([1, 0, 1, 0, 1, 0, 0, 0, 1, 2], dtype=int32), array([1, 0, 0, 0, 0, 0, 1, 2], dtype=int32), array([1, 0, 0, 1, 2], dtype=int32), array([1, 2], dtype=int32), array([1, 0, 1, 0, 1, 0, 1, 2], dtype=int32), array([1, 2], dtype=int32), array([0, 1, 2], dtype=int32), array([1, 0, 1, 0, 0, 1, 0, 1, 0, 0], dtype=int32), array([1, 2], dtype=int32), array([1, 0, 0, 0, 1, 2], dtype=int32), array([1, 2], dtype=int32), array([0, 1, 0, 1, 2], dtype=int32), array([0, 1, 2], dtype=int32), array([1, 2], dtype=int32), array([0, 1, 0, 0, 0, 1, 2], dtype=int32), array([0, 0, 1, 0, 0, 0, 0, 1, 2], dtype=int32), array([0, 0, 1, 2], dtype=int32), array([0, 1, 0, 1, 0, 0, 1, 2], dtype=int32), array([1, 2], dtype=int32), array([0, 1, 0, 0, 0, 0, 1, 2], dtype=int32), array([1, 2], dtype=int32), array([0, 1, 0, 0, 1, 2], dtype=int32), array([0, 0, 1, 0, 1, 2], dtype=int32), array([1, 2], dtype=int32), array([0, 1, 0, 0, 1, 2], dtype=int32), array([1, 0, 0, 0, 0, 1, 2], dtype=int32), array([1, 0, 0, 1, 2], dtype=int32), array([1, 0, 1, 2], dtype=int32), array([0, 0, 0, 0, 1, 2], dtype=int32), array([1, 0, 0, 1, 2], dtype=int32), array([0, 0, 1, 2], dtype=int32), array([1, 2], dtype=int32), array([0, 0, 1, 2], dtype=int32), array([1, 0, 1, 0, 1, 0, 1, 2], dtype=int32), array([0, 1, 0, 0, 1, 0, 0, 0, 1, 2], dtype=int32), array([0, 1, 0, 1, 2], dtype=int32), array([0, 1, 0, 1, 0, 0, 0, 0, 0, 0], dtype=int32), array([0, 0, 0, 0, 1, 0, 0, 1, 2], dtype=int32), array([1, 2], dtype=int32), array([1, 0, 0, 0, 0, 0, 0, 0, 1, 0], dtype=int32), array([0, 0, 0, 0, 1, 0, 1, 0, 1, 2], dtype=int32), array([1, 2], dtype=int32), array([0, 1, 0, 0, 0, 1, 0, 1, 0, 1], dtype=int32), array([0, 1, 2], dtype=int32), array([1, 0, 0, 0, 0, 1, 2], dtype=int32), array([1, 0, 1, 2], dtype=int32), array([0, 0, 0, 1, 2], dtype=int32), array([0, 1, 2], dtype=int32), array([1, 0, 1, 0, 0, 0, 0, 1, 2], dtype=int32), array([1, 2], dtype=int32), array([1, 2], dtype=int32), array([1, 0, 1, 0, 1, 2], dtype=int32), array([1, 2], dtype=int32), array([1, 2], dtype=int32), array([0, 1, 2], dtype=int32), array([1, 0, 1, 0, 1, 2], dtype=int32), array([1, 0, 0, 0, 0, 0, 0, 0, 1, 0], dtype=int32), array([1, 0, 0, 0, 0, 1, 2], dtype=int32), array([0, 0, 0, 0, 0, 1, 2], dtype=int32), array([1, 2], dtype=int32), array([0, 1, 0, 1, 0, 1, 2], dtype=int32), array([0, 1, 0, 1, 2], dtype=int32), array([0, 0, 0, 1, 2], dtype=int32), array([1, 2], dtype=int32), array([0, 1, 2], dtype=int32), array([1, 2], dtype=int32), array([1, 2], dtype=int32), array([1, 0, 1, 2], dtype=int32), array([1, 0, 0, 1, 0, 1, 2], dtype=int32), array([0, 1, 2], dtype=int32), array([0, 0, 1, 2], dtype=int32), array([0, 1, 2], dtype=int32), array([0, 0, 0, 0, 1, 0, 0, 0, 0, 1], dtype=int32), array([1, 0, 1, 2], dtype=int32), array([1, 0, 1, 2], dtype=int32), array([1, 0, 1, 2], dtype=int32), array([0, 1, 2], dtype=int32), array([0, 1, 0, 0, 0, 0, 1, 0, 0, 0], dtype=int32), array([1, 2], dtype=int32), array([1, 0, 1, 2], dtype=int32), array([0, 1, 0, 1, 2], dtype=int32), array([0, 0, 1, 0, 0, 1, 2], dtype=int32), array([0, 0, 1, 0, 1, 0, 0, 1, 0, 0], dtype=int32), array([1, 0, 1, 0, 1, 2], dtype=int32), array([1, 0, 1, 2], dtype=int32), array([1, 0, 1, 0, 0, 1, 2], dtype=int32), array([0, 0, 0, 0, 0, 0, 0, 0, 1, 0], dtype=int32), array([0, 0, 1, 2], dtype=int32), array([1, 2], dtype=int32), array([1, 2], dtype=int32), array([1, 0, 0, 1, 0, 1, 2], dtype=int32), array([1, 0, 0, 0, 0, 0, 1, 2], dtype=int32), array([0, 1, 2], dtype=int32), array([1, 0, 0, 0, 0, 0, 1, 0, 1, 0], dtype=int32), array([0, 1, 0, 1, 0, 0, 0, 1, 2], dtype=int32), array([1, 2], dtype=int32), array([0, 0, 0, 0, 1, 0, 0, 0, 1, 0], dtype=int32), array([0, 1, 2], dtype=int32), array([0, 0, 1, 0, 0, 0, 1, 0, 0, 1], dtype=int32), array([1, 0, 1, 0, 1, 0, 0, 1, 0, 1], dtype=int32), array([0, 1, 0, 0, 0, 1, 0, 0, 1, 2], dtype=int32), array([0, 1, 0, 0, 1, 0, 1, 2], dtype=int32), array([0, 1, 2], dtype=int32), array([1, 0, 0, 1, 2], dtype=int32), array([1, 0, 0, 1, 2], dtype=int32), array([1, 0, 0, 0, 1, 2], dtype=int32), array([1, 0, 1, 0, 1, 0, 0, 1, 2], dtype=int32), array([0, 1, 2], dtype=int32), array([1, 0, 0, 0, 1, 0, 1, 2], dtype=int32), array([0, 0, 1, 2], dtype=int32), array([0, 1, 2], dtype=int32), array([0, 1, 0, 0, 1, 0, 0, 0, 1, 2], dtype=int32), array([0, 0, 1, 2], dtype=int32), array([1, 2], dtype=int32), array([0, 0, 1, 2], dtype=int32), array([1, 0, 0, 0, 0, 1, 0, 0, 1, 0], dtype=int32), array([0, 1, 2], dtype=int32), array([1, 0, 0, 1, 0, 0, 1, 2], dtype=int32), array([0, 1, 2], dtype=int32), array([1, 0, 1, 2], dtype=int32), array([1, 0, 1, 2], dtype=int32), array([1, 0, 1, 2], dtype=int32), array([0, 1, 2], dtype=int32), array([0, 0, 0, 1, 0, 0, 0, 0, 0, 0], dtype=int32), array([1, 2], dtype=int32), array([0, 0, 1, 2], dtype=int32), array([1, 0, 0, 0, 1, 2], dtype=int32), array([0, 0, 1, 2], dtype=int32), array([0, 1, 2], dtype=int32), array([1, 0, 0, 0, 1, 2], dtype=int32), array([0, 1, 2], dtype=int32), array([1, 2], dtype=int32), array([0, 0, 0, 1, 0, 1, 0, 1, 2], dtype=int32), array([1, 0, 0, 0, 1, 2], dtype=int32), array([1, 2], dtype=int32), array([0, 0, 1, 2], dtype=int32), array([0, 0, 0, 0, 1, 0, 1, 0, 1, 2], dtype=int32), array([1, 2], dtype=int32), array([1, 2], dtype=int32), array([1, 2], dtype=int32), array([1, 2], dtype=int32), array([0, 1, 0, 0, 0, 1, 0, 0, 1, 0], dtype=int32), array([0, 1, 0, 1, 2], dtype=int32), array([0, 0, 0, 0, 0, 1, 0, 1, 2], dtype=int32), array([1, 0, 0, 1, 0, 0, 0, 1, 2], dtype=int32), array([1, 0, 1, 2], dtype=int32), array([0, 0, 0, 1, 2], dtype=int32), array([1, 0, 1, 0, 0, 0, 0, 1, 0, 0], dtype=int32), array([0, 0, 0, 1, 0, 0, 1, 2], dtype=int32), array([0, 1, 0, 1, 2], dtype=int32), array([0, 0, 0, 1, 2], dtype=int32), array([1, 2], dtype=int32), array([1, 0, 0, 1, 2], dtype=int32), array([1, 0, 0, 0, 0, 1, 0, 0, 0, 0], dtype=int32), array([1, 0, 1, 0, 0, 1, 2], dtype=int32), array([1, 0, 0, 0, 0, 1, 2], dtype=int32), array([1, 2], dtype=int32), array([1, 0, 0, 1, 0, 1, 0, 1, 0, 1], dtype=int32), array([1, 0, 1, 0, 1, 0, 0, 1, 0, 1], dtype=int32), array([1, 0, 0, 1, 0, 1, 0, 0, 1, 2], dtype=int32), array([1, 2], dtype=int32), array([1, 0, 0, 0, 1, 2], dtype=int32), array([0, 1, 2], dtype=int32), array([1, 2], dtype=int32), array([1, 0, 0, 1, 2], dtype=int32), array([1, 2], dtype=int32), array([1, 2], dtype=int32), array([0, 1, 0, 0, 0, 1, 0, 0, 0, 1], dtype=int32), array([1, 2], dtype=int32), array([1, 0, 0, 0, 1, 2], dtype=int32), array([0, 1, 0, 0, 1, 2], dtype=int32), array([0, 0, 1, 2], dtype=int32), array([0, 1, 2], dtype=int32), array([0, 0, 1, 2], dtype=int32), array([0, 0, 1, 2], dtype=int32), array([0, 0, 0, 1, 0, 1, 2], dtype=int32), array([0, 0, 0, 1, 2], dtype=int32), array([0, 0, 1, 2], dtype=int32), array([0, 1, 0, 0, 0, 0, 1, 2], dtype=int32), array([1, 0, 1, 2], dtype=int32), array([0, 0, 0, 1, 2], dtype=int32), array([0, 0, 0, 1, 2], dtype=int32), array([0, 0, 1, 2], dtype=int32), array([0, 0, 1, 2], dtype=int32), array([0, 0, 1, 0, 1, 2], dtype=int32), array([1, 0, 0, 0, 1, 0, 0, 1, 0, 1], dtype=int32), array([0, 0, 0, 0, 1, 0, 1, 2], dtype=int32), array([0, 0, 0, 0, 0, 1, 0, 0, 1, 0], dtype=int32), array([1, 0, 0, 1, 2], dtype=int32), array([1, 0, 0, 1, 0, 0, 1, 0, 1, 0], dtype=int32), array([0, 1, 0, 1, 2], dtype=int32), array([1, 2], dtype=int32), array([0, 0, 0, 0, 0, 1, 2], dtype=int32), array([1, 0, 0, 1, 2], dtype=int32), array([0, 0, 1, 2], dtype=int32), array([1, 2], dtype=int32), array([0, 1, 2], dtype=int32), array([1, 0, 0, 0, 1, 2], dtype=int32), array([1, 0, 0, 0, 0, 1, 0, 0, 1, 2], dtype=int32), array([0, 0, 1, 2], dtype=int32), array([0, 1, 0, 0, 0, 1, 0, 0, 1, 2], dtype=int32), array([1, 0, 1, 2], dtype=int32), array([0, 1, 0, 0, 0, 1, 0, 1, 0, 0], dtype=int32), array([1, 2], dtype=int32), array([1, 0, 1, 2], dtype=int32), array([1, 0, 0, 0, 0, 1, 2], dtype=int32), array([1, 0, 0, 0, 1, 0, 1, 2], dtype=int32), array([0, 1, 0, 0, 0, 0, 1, 0, 1, 0], dtype=int32), array([1, 0, 0, 1, 2], dtype=int32), array([1, 2], dtype=int32), array([1, 0, 1, 2], dtype=int32), array([0, 0, 1, 2], dtype=int32), array([0, 0, 0, 1, 2], dtype=int32), array([1, 2], dtype=int32), array([1, 2], dtype=int32), array([1, 0, 1, 2], dtype=int32), array([1, 0, 1, 2], dtype=int32), array([1, 0, 1, 2], dtype=int32), array([0, 1, 2], dtype=int32), array([0, 1, 0, 1, 2], dtype=int32), array([0, 1, 2], dtype=int32), array([0, 0, 1, 2], dtype=int32), array([1, 0, 0, 1, 2], dtype=int32), array([1, 0, 1, 2], dtype=int32), array([1, 0, 0, 0, 1, 2], dtype=int32), array([1, 2], dtype=int32), array([1, 0, 1, 2], dtype=int32), array([0, 0, 0, 1, 0, 0, 0, 1, 2], dtype=int32), array([1, 2], dtype=int32), array([0, 0, 0, 0, 1, 0, 0, 1, 0, 1], dtype=int32), array([1, 2], dtype=int32), array([1, 0, 0, 0, 1, 2], dtype=int32), array([1, 0, 0, 1, 0, 1, 0, 0, 1, 2], dtype=int32), array([1, 0, 0, 0, 0, 0, 1, 0, 1, 0], dtype=int32), array([1, 0, 1, 0, 1, 0, 0, 0, 1, 0], dtype=int32), array([0, 1, 0, 0, 1, 2], dtype=int32), array([0, 0, 1, 2], dtype=int32), array([1, 2], dtype=int32), array([1, 2], dtype=int32), array([0, 1, 2], dtype=int32), array([0, 0, 0, 1, 0, 0, 1, 2], dtype=int32), array([0, 1, 2], dtype=int32), array([1, 2], dtype=int32), array([1, 0, 0, 1, 2], dtype=int32), array([0, 1, 2], dtype=int32), array([0, 1, 2], dtype=int32), array([0, 0, 0, 1, 2], dtype=int32), array([1, 2], dtype=int32), array([0, 0, 0, 0, 1, 2], dtype=int32), array([0, 0, 0, 0, 0, 1, 0, 0, 1, 2], dtype=int32), array([0, 0, 1, 2], dtype=int32), array([1, 0, 0, 0, 0, 0, 0, 1, 0, 1], dtype=int32), array([1, 2], dtype=int32), array([0, 1, 2], dtype=int32), array([1, 0, 1, 2], dtype=int32), array([1, 2], dtype=int32), array([0, 0, 1, 2], dtype=int32), array([0, 1, 2], dtype=int32), array([1, 2], dtype=int32), array([1, 0, 1, 2], dtype=int32), array([0, 1, 0, 0, 0, 1, 0, 0, 1, 2], dtype=int32), array([1, 2], dtype=int32), array([0, 1, 0, 0, 0, 0, 0, 1, 0, 0], dtype=int32), array([1, 2], dtype=int32), array([1, 2], dtype=int32), array([1, 0, 0, 1, 0, 1, 0, 0, 0, 1], dtype=int32), array([1, 2], dtype=int32), array([0, 0, 1, 0, 0, 1, 0, 1, 2], dtype=int32), array([1, 2], dtype=int32), array([0, 0, 1, 2], dtype=int32), array([1, 0, 1, 0, 1, 0, 1, 2], dtype=int32), array([0, 0, 1, 0, 1, 2], dtype=int32), array([1, 0, 0, 0, 1, 2], dtype=int32), array([0, 1, 2], dtype=int32), array([1, 0, 1, 2], dtype=int32), array([1, 2], dtype=int32), array([0, 0, 0, 0, 1, 0, 1, 2], dtype=int32), array([0, 0, 0, 1, 2], dtype=int32), array([0, 0, 1, 0, 0, 1, 2], dtype=int32), array([1, 2], dtype=int32), array([1, 2], dtype=int32), array([0, 1, 0, 0, 1, 0, 0, 0, 0, 0], dtype=int32), array([0, 0, 1, 0, 0, 1, 2], dtype=int32), array([1, 0, 0, 1, 2], dtype=int32), array([1, 0, 0, 0, 1, 0, 0, 1, 2], dtype=int32), array([0, 0, 0, 1, 0, 0, 1, 0, 0, 1], dtype=int32), array([0, 1, 2], dtype=int32), array([0, 1, 0, 0, 1, 2], dtype=int32), array([0, 1, 0, 0, 0, 1, 0, 1, 0, 1], dtype=int32), array([1, 0, 0, 1, 2], dtype=int32), array([1, 0, 0, 1, 2], dtype=int32), array([1, 0, 0, 0, 0, 1, 0, 0, 1, 2], dtype=int32), array([0, 1, 0, 0, 1, 0, 1, 2], dtype=int32), array([0, 0, 0, 0, 0, 1, 0, 0, 0, 0], dtype=int32), array([0, 1, 0, 0, 1, 0, 0, 1, 0, 1], dtype=int32), array([1, 2], dtype=int32), array([0, 0, 1, 0, 0, 0, 1, 2], dtype=int32), array([0, 0, 0, 0, 1, 0, 0, 1, 2], dtype=int32), array([1, 0, 0, 0, 0, 0, 0, 0, 1, 0], dtype=int32), array([1, 0, 1, 0, 0, 1, 2], dtype=int32), array([1, 2], dtype=int32), array([0, 1, 0, 0, 1, 0, 1, 0, 1, 2], dtype=int32), array([1, 0, 0, 1, 0, 0, 0, 1, 2], dtype=int32), array([1, 2], dtype=int32), array([0, 1, 2], dtype=int32), array([1, 0, 0, 1, 2], dtype=int32), array([0, 0, 0, 1, 0, 1, 2], dtype=int32), array([1, 2], dtype=int32), array([0, 0, 1, 0, 1, 0, 1, 2], dtype=int32), array([0, 0, 1, 0, 1, 2], dtype=int32), array([1, 0, 1, 0, 0, 0, 0, 1, 2], dtype=int32), array([0, 0, 1, 2], dtype=int32), array([0, 0, 1, 0, 0, 1, 2], dtype=int32), array([1, 2], dtype=int32), array([0, 1, 0, 0, 1, 0, 1, 2], dtype=int32), array([0, 0, 0, 1, 2], dtype=int32), array([0, 1, 0, 1, 0, 0, 1, 2], dtype=int32), array([1, 0, 0, 1, 2], dtype=int32), array([1, 2], dtype=int32), array([1, 2], dtype=int32), array([0, 1, 2], dtype=int32), array([1, 2], dtype=int32), array([0, 0, 1, 0, 1, 2], dtype=int32), array([0, 0, 0, 1, 0, 1, 0, 1, 2], dtype=int32), array([0, 1, 2], dtype=int32), array([1, 0, 1, 2], dtype=int32), array([0, 0, 0, 0, 1, 2], dtype=int32), array([0, 1, 0, 0, 0, 1, 2], dtype=int32), array([0, 1, 2], dtype=int32), array([0, 0, 1, 2], dtype=int32), array([1, 2], dtype=int32), array([0, 0, 0, 0, 1, 0, 1, 0, 1, 0], dtype=int32), array([1, 2], dtype=int32), array([1, 0, 0, 0, 0, 1, 0, 1, 2], dtype=int32), array([1, 2], dtype=int32), array([0, 1, 0, 0, 1, 2], dtype=int32), array([1, 0, 0, 0, 0, 0, 1, 2], dtype=int32), array([0, 1, 0, 0, 1, 2], dtype=int32), array([1, 0, 1, 2], dtype=int32), array([0, 1, 2], dtype=int32), array([0, 0, 1, 2], dtype=int32), array([0, 1, 0, 1, 0, 0, 1, 0, 1, 2], dtype=int32), array([0, 1, 0, 1, 2], dtype=int32), array([0, 0, 0, 0, 1, 0, 1, 0, 0, 1], dtype=int32), array([1, 2], dtype=int32), array([0, 0, 0, 1, 0, 0, 1, 0, 0, 1], dtype=int32), array([1, 0, 1, 0, 1, 2], dtype=int32), array([1, 0, 0, 0, 1, 0, 1, 2], dtype=int32), array([0, 1, 0, 0, 0, 1, 0, 1, 2], dtype=int32), array([1, 0, 1, 0, 1, 0, 1, 2], dtype=int32), array([0, 1, 0, 0, 1, 2], dtype=int32), array([1, 2], dtype=int32), array([1, 0, 0, 0, 0, 0, 1, 0, 0, 1], dtype=int32), array([1, 0, 0, 1, 0, 0, 0, 1, 2], dtype=int32), array([1, 0, 0, 0, 1, 2], dtype=int32), array([1, 2], dtype=int32), array([1, 0, 0, 0, 1, 0, 0, 0, 1, 0], dtype=int32), array([0, 0, 1, 0, 0, 0, 0, 1, 2], dtype=int32), array([0, 0, 1, 2], dtype=int32), array([0, 1, 2], dtype=int32), array([0, 1, 2], dtype=int32), array([1, 0, 0, 1, 0, 0, 1, 2], dtype=int32), array([1, 2], dtype=int32), array([0, 1, 2], dtype=int32), array([0, 1, 2], dtype=int32), array([0, 0, 1, 0, 0, 0, 1, 0, 0, 0], dtype=int32), array([0, 0, 1, 0, 1, 2], dtype=int32), array([0, 1, 0, 0, 0, 0, 0, 1, 0, 0], dtype=int32), array([1, 2], dtype=int32), array([0, 1, 0, 0, 1, 2], dtype=int32), array([0, 1, 0, 0, 1, 0, 0, 0, 1, 0], dtype=int32), array([1, 0, 1, 0, 1, 2], dtype=int32), array([1, 2], dtype=int32), array([1, 0, 0, 0, 0, 0, 0, 0, 1, 0], dtype=int32), array([1, 0, 0, 0, 0, 1, 2], dtype=int32), array([1, 0, 1, 2], dtype=int32), array([1, 0, 0, 0, 1, 2], dtype=int32), array([1, 0, 1, 0, 0, 1, 2], dtype=int32), array([0, 0, 1, 0, 0, 0, 1, 0, 1, 2], dtype=int32), array([1, 0, 1, 2], dtype=int32), array([1, 2], dtype=int32), array([0, 1, 0, 1, 2], dtype=int32), array([1, 0, 0, 0, 0, 1, 0, 0, 1, 2], dtype=int32), array([0, 0, 0, 0, 0, 0, 1, 0, 1, 0], dtype=int32), array([0, 0, 1, 2], dtype=int32), array([1, 2], dtype=int32), array([0, 0, 0, 1, 0, 1, 2], dtype=int32), array([1, 0, 0, 1, 0, 1, 2], dtype=int32), array([0, 0, 1, 2], dtype=int32), array([1, 0, 1, 0, 1, 2], dtype=int32), array([1, 0, 0, 0, 0, 0, 0, 1, 0, 1], dtype=int32), array([0, 1, 2], dtype=int32), array([0, 1, 2], dtype=int32), array([0, 1, 0, 1, 2], dtype=int32), array([0, 1, 0, 1, 2], dtype=int32), array([1, 0, 0, 0, 1, 0, 1, 0, 1, 0], dtype=int32), array([1, 2], dtype=int32), array([1, 2], dtype=int32), array([1, 2], dtype=int32), array([1, 2], dtype=int32), array([1, 2], dtype=int32), array([1, 2], dtype=int32), array([1, 0, 0, 1, 0, 1, 0, 0, 0, 1], dtype=int32), array([0, 0, 1, 2], dtype=int32), array([0, 0, 0, 0, 0, 1, 2], dtype=int32), array([0, 1, 2], dtype=int32), array([1, 0, 0, 0, 0, 0, 1, 2], dtype=int32), array([0, 0, 1, 2], dtype=int32), array([0, 0, 1, 2], dtype=int32), array([1, 0, 1, 0, 1, 0, 0, 0, 0, 1], dtype=int32), array([1, 2], dtype=int32), array([0, 0, 1, 2], dtype=int32), array([0, 0, 0, 0, 1, 0, 1, 2], dtype=int32), array([0, 0, 1, 0, 0, 1, 0, 1, 0, 0], dtype=int32), array([1, 2], dtype=int32), array([0, 0, 0, 0, 0, 0, 0, 1, 0, 1], dtype=int32), array([1, 2], dtype=int32), array([0, 1, 0, 0, 1, 0, 0, 1, 0, 0], dtype=int32), array([1, 2], dtype=int32), array([0, 0, 1, 2], dtype=int32), array([0, 1, 0, 1, 0, 0, 1, 0, 1, 0], dtype=int32), array([0, 0, 1, 0, 0, 1, 0, 0, 1, 2], dtype=int32), array([0, 0, 1, 0, 0, 0, 1, 0, 0, 1], dtype=int32), array([0, 0, 1, 2], dtype=int32), array([1, 0, 1, 0, 0, 1, 0, 0, 1, 2], dtype=int32), array([0, 1, 2], dtype=int32), array([0, 0, 1, 0, 0, 0, 0, 1, 2], dtype=int32), array([0, 1, 2], dtype=int32), array([1, 0, 0, 1, 2], dtype=int32), array([1, 2], dtype=int32), array([0, 1, 0, 1, 0, 1, 2], dtype=int32), array([0, 1, 2], dtype=int32), array([0, 1, 0, 1, 2], dtype=int32), array([1, 2], dtype=int32), array([1, 2], dtype=int32), array([1, 2], dtype=int32), array([1, 2], dtype=int32), array([0, 0, 1, 0, 0, 0, 1, 0, 1, 2], dtype=int32), array([0, 0, 1, 2], dtype=int32), array([0, 1, 2], dtype=int32), array([0, 1, 2], dtype=int32), array([1, 0, 1, 0, 1, 0, 0, 0, 0, 0], dtype=int32), array([0, 0, 0, 0, 0, 0, 1, 2], dtype=int32), array([1, 0, 0, 1, 0, 1, 2], dtype=int32), array([1, 2], dtype=int32), array([1, 0, 0, 1, 0, 0, 1, 0, 0, 0], dtype=int32), array([0, 1, 0, 1, 0, 0, 0, 1, 0, 0], dtype=int32), array([1, 2], dtype=int32), array([0, 1, 0, 1, 0, 1, 0, 0, 1, 2], dtype=int32), array([0, 1, 0, 1, 2], dtype=int32), array([0, 1, 2], dtype=int32), array([1, 0, 1, 0, 0, 0, 1, 2], dtype=int32), array([1, 2], dtype=int32), array([0, 0, 1, 2], dtype=int32), array([1, 0, 0, 1, 2], dtype=int32), array([1, 0, 0, 1, 2], dtype=int32), array([1, 0, 1, 0, 1, 0, 1, 0, 0, 0], dtype=int32), array([1, 0, 0, 0, 0, 1, 0, 1, 0, 1], dtype=int32), array([0, 1, 0, 0, 1, 2], dtype=int32), array([0, 1, 2], dtype=int32), array([0, 1, 2], dtype=int32), array([0, 1, 2], dtype=int32), array([1, 2], dtype=int32), array([0, 1, 0, 0, 1, 2], dtype=int32), array([0, 1, 2], dtype=int32), array([1, 0, 1, 2], dtype=int32), array([0, 0, 1, 0, 0, 1, 0, 0, 1, 0], dtype=int32), array([1, 2], dtype=int32)]\n"
     ]
    }
   ],
   "source": [
    "with Timer('Making walks'):\n",
    "    walks = [ get_walk() for _ in range(1000)]\n",
    "\n",
    "with Timer('Initialising global variables'):\n",
    "    sess.run(tf.global_variables_initializer())\n",
    "    \n",
    "with Timer('Evaluating walks'):\n",
    "    ws = sess.run(walks)\n",
    "print(ws)"
   ]
  },
  {
   "cell_type": "code",
   "execution_count": 14,
   "metadata": {},
   "outputs": [
    {
     "name": "stdout",
     "output_type": "stream",
     "text": [
      "Making Walks Took 0.08s seconds\n",
      "Initialising global variables Took 4.59s seconds\n",
      "Concatenating Took 1.90s seconds\n",
      "[array([0, 1, 2, 1, 0, 1, 2, 1, 0, 0, 1, 2, 1, 2, 1, 2, 1, 2, 0, 0, 0, 1, 0,\n",
      "       1, 2, 0, 1, 2, 1, 2, 0, 1, 0, 0, 0, 0, 0, 0, 0, 1, 0, 1, 2, 0, 0, 0,\n",
      "       1, 0, 0, 0, 0, 1, 2, 1, 2, 0, 0, 0, 0, 1, 0, 0, 1, 2, 1, 0, 1, 0, 0,\n",
      "       0, 1, 2, 1, 0, 0, 1, 2, 0, 1, 0, 1, 2, 1, 2, 0, 1, 2, 1, 2, 0, 0, 0,\n",
      "       1, 2, 0, 1, 0, 1, 2, 1, 2, 0, 1, 2, 1, 0, 0, 1, 0, 1, 0, 0, 1, 2, 0,\n",
      "       1, 0, 0, 0, 0, 1, 2, 0, 1, 2, 1, 2, 0, 0, 1, 2, 1, 2, 0, 1, 0, 1, 0,\n",
      "       0, 1, 2, 1, 2, 1, 0, 1, 0, 1, 2, 1, 0, 0, 0, 1, 0, 1, 0, 0, 1, 1, 0,\n",
      "       1, 2, 0, 1, 0, 0, 0, 1, 2, 0, 0, 0, 0, 0, 0, 0, 0, 0, 0, 0, 1, 0, 1,\n",
      "       2, 1, 2, 1, 0, 0, 0, 1, 2, 0, 0, 0, 1, 2, 0, 1, 2, 1, 0, 1, 2, 1, 0,\n",
      "       0, 0, 1, 0, 0, 1, 2, 1, 0, 0, 0, 0, 1, 2, 1, 2, 0, 1, 0, 1, 0, 1, 0,\n",
      "       0, 0, 1, 1, 2, 0, 1, 2, 0, 0, 0, 1, 2, 1, 2, 1, 0, 1, 2, 1, 2, 1, 0,\n",
      "       0, 0, 1, 0, 1, 2, 0, 1, 2, 1, 2, 1, 2, 1, 0, 1, 0, 0, 1, 2, 1, 2, 0,\n",
      "       1, 2, 1, 0, 0, 1, 0, 0, 1, 2, 1, 2, 1, 0, 1, 0, 1, 0, 1, 0, 1, 2, 0,\n",
      "       0, 0, 1, 2, 0, 0, 0, 1, 0, 1, 2, 1, 2, 1, 0, 1, 0, 1, 0, 0, 0, 0, 0,\n",
      "       1, 0, 0, 0, 1, 2, 1, 2, 1, 0, 1, 0, 0, 1, 0, 0, 0, 1, 1, 0, 0, 1, 0,\n",
      "       1, 2, 0, 0, 1, 2, 1, 2, 0, 0, 0, 1, 2, 0, 1, 0, 0, 0, 0, 0, 0, 1, 0,\n",
      "       1, 0, 1, 0, 1, 0, 0, 1, 0, 0, 1, 0, 0, 0, 0, 0, 1, 2, 0, 1, 0, 1, 0,\n",
      "       0, 0, 0, 1, 2, 0, 1, 2, 1, 0, 0, 1, 0, 1, 0, 0, 1, 0, 0, 0, 0, 1, 2,\n",
      "       1, 2, 0, 1, 2, 1, 2, 0, 1, 0, 1, 2, 1, 2, 1, 0, 0, 1, 0, 0, 0, 1, 2,\n",
      "       1, 2, 0, 0, 0, 1, 0, 0, 1, 0, 1, 0, 0, 0, 0, 0, 1, 0, 0, 1, 2, 0, 0,\n",
      "       0, 0, 1, 0, 1, 0, 1, 2, 0, 1, 2, 1, 2, 0, 1, 2, 1, 0, 1, 2, 0, 0, 0,\n",
      "       1, 0, 0, 1, 2, 0, 0, 0, 1, 0, 1, 2, 0, 1, 2, 1, 0, 0, 0, 0, 0, 0, 0,\n",
      "       0, 0, 1, 0, 0, 1, 2], dtype=int32)]\n"
     ]
    }
   ],
   "source": [
    "NUM_WALKS = 100\n",
    "\n",
    "NUM_THREADS = 12\n",
    "\n",
    "config = tf.ConfigProto(intra_op_parallelism_threads=NUM_THREADS,\n",
    "                        inter_op_parallelism_threads=NUM_THREADS,\n",
    "                        allow_soft_placement=True, device_count = {'CPU': NUM_THREADS})\n",
    "\n",
    "sess2 = tf.Session(config=config)\n",
    "\n",
    "walks = tf.TensorArray(tf.int32, size=NUM_WALKS)\n",
    "count2 = tf.Variable(0, tf.int32)\n",
    "\n",
    "cond = lambda c, w: tf.less(c, NUM_WALKS)\n",
    "\n",
    "def body(c, w):\n",
    "    next_c = c+1\n",
    "    www = get_walk()\n",
    "    w = w.write(c, www)\n",
    "    return next_c, w\n",
    "\n",
    "with Timer('Making Walks'):\n",
    "    count2, walks = tf.while_loop(cond, body, [count2, walks])\n",
    "\n",
    "with Timer('Initialising global variables'):\n",
    "    sess2.run(tf.global_variables_initializer())\n",
    "\n",
    "with Timer('Concatenating'):\n",
    "    ws = sess2.run([walks.concat()])\n",
    "print(ws)    "
   ]
  },
  {
   "cell_type": "code",
   "execution_count": null,
   "metadata": {
    "collapsed": true
   },
   "outputs": [],
   "source": []
  },
  {
   "cell_type": "code",
   "execution_count": null,
   "metadata": {
    "collapsed": true
   },
   "outputs": [],
   "source": []
  }
 ],
 "metadata": {
  "kernelspec": {
   "display_name": "Python [default]",
   "language": "python",
   "name": "python3"
  },
  "language_info": {
   "codemirror_mode": {
    "name": "ipython",
    "version": 3
   },
   "file_extension": ".py",
   "mimetype": "text/x-python",
   "name": "python",
   "nbconvert_exporter": "python",
   "pygments_lexer": "ipython3",
   "version": "3.6.2"
  }
 },
 "nbformat": 4,
 "nbformat_minor": 2
}
